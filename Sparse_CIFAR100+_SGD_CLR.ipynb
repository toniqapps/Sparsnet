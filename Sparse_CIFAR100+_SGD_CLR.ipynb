{
  "nbformat": 4,
  "nbformat_minor": 0,
  "metadata": {
    "colab": {
      "name": "Sparse_CIFAR100+_SGD_CLR.ipynb",
      "version": "0.3.2",
      "views": {},
      "default_view": {},
      "provenance": []
    },
    "kernelspec": {
      "name": "python3",
      "display_name": "Python 3"
    },
    "accelerator": "GPU"
  },
  "cells": [
    {
      "metadata": {
        "id": "zmTl2xZ7Aom6",
        "colab_type": "text"
      },
      "cell_type": "markdown",
      "source": [
        "##SparseNet models for Keras.\n",
        "### Reference\n",
        "- [Sparsely Connected Convolutional Networks](https://arxiv.org/abs/1801.05895)\n",
        "- [Github](https://github.com/lyken17/sparsenet)\n",
        "- [Cyclical Learning Rates for Training Neural Networks\n",
        "](https://arxiv.org/abs/1506.01186)"
      ]
    },
    {
      "metadata": {
        "id": "s4aD2y3ZJS3N",
        "colab_type": "text"
      },
      "cell_type": "markdown",
      "source": [
        "###Skip Connections:\n",
        "---\n",
        "<div align=\"justify\">Predicting detail information of complicated visual scene may require understanding it at multiple levels abstraction, from edges and textures to object categories. As we all know convolution neural network learns increasingly abstract visual representations when going to deeper layers. But training such  deep networks requires back-propogating a signal through all the layers of the given networks which results in loss at the end of network to be noisier due to deeper layers and it becomes worst has we go deep and we also need to store and maintain a feature computed early that network need to reuse, to overcome this we use skip connections which connect multiple outputs from different layer to $l_{th}$ layer which can provide a pathway for assembling  feature that  combines many level of abstraction</div>"
      ]
    },
    {
      "metadata": {
        "id": "_8SXw_mhJYYf",
        "colab_type": "text"
      },
      "cell_type": "markdown",
      "source": [
        "### Optimizer:\n",
        "___\n",
        "\n",
        "The choice of optimization algorithm indicates how fast  and optimum is your model.  To train a model we need to reduce the loss which is a functon of weight and bias. With the help of back propogation we back propogate the current error in the previous layer and modify the weights and bias such a way that the error is reduced. To modify weights we use optimization algorithm.\n",
        "\n",
        "Optimization function is usually use to calculate gradiant i.e. the partial derivative of loss function with respect to weights and weghts are modified in opposite direction of calculate gradient. This i cycle is repeated until we reach minima of loss function\n",
        "\n",
        "To reduce the loss and modify the weights we use hyper parameter learning rate which can be tuned to get optimal results. Choosing a proper learning rate is difficult. If the learning rate is too low it result in slow convergence and may lead to vanishing gradient descent  and if it is to high it may diverge from the minmal and may leading exploding gradient problem\n",
        "\n",
        "\n"
      ]
    },
    {
      "metadata": {
        "id": "QEsCZ7GpDBxT",
        "colab_type": "text"
      },
      "cell_type": "markdown",
      "source": [
        "### Why Sparsenet : \n",
        "___\n",
        "<div align=\"justify\">SparseNet is a variant of DenseNets or Resnet. In Densenet we  have a skip connection after every block which are concatenated to next layer and in resnet we do cumulative summation, but both have same problems i.e. as the depth increases, the number of features grows linearly. Later features may corrupt or wash out the information carried by earlier features maps as seen in resnet which result in saturation of resnet performance, in contrast densnet preserves the original format of previous layers due to concatenation, this factor contribute to better parameter performance efficiency over resnet but due to concatenation no of parameters grows at the rate of $0(N^2)$ due to which portion of network is devoted to process previously seen feature map and hence are not able to exploit all the parameters fully and this pitfall are due to the linear growth of feature maps in both densnet and resnet. To overcome this we would like to maintain the power of short gradient paths for training. By aggregating features only from layers with exponential offset the length of the shortest  gradient path between blocks with offset S is bounded  by  $O((c-1)log(S))$. Here, c is again the base of the exponent governing the sparse connection pattern. The total number of output to the $l^{th}$ block is $O(log(l))$ due to exponential offsets. Therefore total no of skip connections is</div>\n",
        "\n",
        "<center>$\\sum_{l=1}^N(log_cl) = O(NlogN)$</center>\n",
        "\n",
        "<center>N is the number of basic blocks (depth) of the network. </center>\n",
        "\n",
        "<center>The number of parameters are $O(N log N)$ and $O(N)$, respectively, for aggregation by concatenation and aggregation by summation</center>\n",
        "\n",
        "<div align=\"justify\">SparseNets have such skip connections only at depths of $2^N$. This allows model to be less memory intensive due to less parameters while still performing equivalent to densnet or better</div>\n",
        "\n",
        "<center>![alt text](https://lh3.googleusercontent.com/ar5begWFXAGXPVDeIORZB_iD4OrsAe6dR-yyfEjCNhR8fnt-LnnFcRDUrecj7era4845nS8iyolaWmN0GaTCo114I9WmTSTo0cTIGBQnVwzvJ9yrVa0Fm0TYUnxphcHbQC5pAoWe=w2400)</center>\n",
        "\n",
        "<center>** Densnet/Resnet**</center>\n",
        "\n",
        "<center>![alt text](https://lh3.googleusercontent.com/pJosUXvPpuMJu87oi0gb351VelsWpLkbcX6TXx5i1qh_QOaMEPgeJS-Ikg3Dilfue6qDNnfOblaOpc8BUJOzgY4yPE23QxOBttS268ojfYJajR7uBGg__cNisOUUIp0f-vNfx7zi=w2400)</center>\n",
        "\n",
        "<center>![alt text](https://lh3.googleusercontent.com/EnnfenqM7PICFgtcfxgVO0PWJOCbpFFCCq0DDSRhBoZU63ZgZUzqAsGWx0tSZCbULSNwqfBDEr41Q0enZUJXAUON3j2s30aqosQZrrsgBHWHjWJpB4Xo5bBlm-NvmBkkXJNOTRMp=w2400)</center>\n",
        "<center>** Sparsenet**</center>\n"
      ]
    },
    {
      "metadata": {
        "id": "r2G45wc6C9YS",
        "colab_type": "text"
      },
      "cell_type": "markdown",
      "source": [
        "##Experiments\n",
        "\n",
        "<div align=\"justify\">We demonstrate the effectiveness of SparseNets over DenseNets, through image classification tasks on the CIFAR-100 datasets</div>\n",
        "\n",
        "We Implement our models in Keras\n",
        "\n",
        "**Datasets**:\n",
        "CIFAR both the CIFAR-10 and CIFAR-100 datasets have 50,000 training\n",
        "images and 10,000 testing images with size of 32 × 32 pixels. CIFAR-10 \n",
        "and CIFAR-100  have 10 and 100 classes respectively. Our experiments\n",
        "use standard data augmentation"
      ]
    },
    {
      "metadata": {
        "id": "iYZh5OwzAkql",
        "colab_type": "code",
        "colab": {
          "autoexec": {
            "startup": false,
            "wait_interval": 0
          }
        }
      },
      "cell_type": "code",
      "source": [
        "import numpy as np\n",
        "import warnings\n",
        "from scipy.misc import imresize, toimage\n",
        "from matplotlib import pyplot as plt\n",
        "\n",
        "from keras.models import Model\n",
        "from keras.layers.core import Dense, Dropout, Activation, Reshape\n",
        "from keras.layers.convolutional import Conv2D, Conv2DTranspose, UpSampling2D, SeparableConv2D\n",
        "from keras.layers import AveragePooling2D, MaxPooling2D\n",
        "from keras.layers import GlobalAveragePooling2D\n",
        "from keras.layers import Input\n",
        "from keras.layers.merge import concatenate\n",
        "from keras.layers.normalization import BatchNormalization\n",
        "from keras.regularizers import l2\n",
        "from keras.utils.layer_utils import convert_all_kernels_in_model, convert_dense_weights_data_format\n",
        "from keras.utils.data_utils import get_file\n",
        "from keras.utils import np_utils\n",
        "\n",
        "from keras.engine.topology import get_source_inputs\n",
        "from keras.applications.imagenet_utils import _obtain_input_shape\n",
        "from keras.applications.imagenet_utils import decode_predictions\n",
        "from keras.callbacks import LearningRateScheduler\n",
        "import keras.backend as K\n",
        "\n",
        "\n",
        "import os.path\n",
        "import sklearn.metrics as metrics\n",
        "from keras.datasets import cifar100\n",
        "from keras.preprocessing.image import ImageDataGenerator\n",
        "from keras.optimizers import SGD\n",
        "from keras.callbacks import ModelCheckpoint, ReduceLROnPlateau"
      ],
      "execution_count": 0,
      "outputs": []
    },
    {
      "metadata": {
        "id": "g2zzSoJ5DnHb",
        "colab_type": "text"
      },
      "cell_type": "markdown",
      "source": [
        "###Load Datasets"
      ]
    },
    {
      "metadata": {
        "id": "mAYkKZ6v7Iwa",
        "colab_type": "code",
        "colab": {
          "autoexec": {
            "startup": false,
            "wait_interval": 0
          }
        }
      },
      "cell_type": "code",
      "source": [
        "#load data\n",
        "(trainX, trainY), (testX, testY) = cifar100.load_data()\n",
        "\n",
        "nb_classes = len(np.unique(trainY))\n",
        "nb_channels = trainX.shape[-1]\n",
        "\n",
        "trainX = trainX.astype('float32')\n",
        "testX = testX.astype('float32')\n",
        "\n",
        "cifar_mean = trainX.mean(axis=(0, 1, 2), keepdims=True)\n",
        "cifar_std = trainX.std(axis=(0, 1, 2), keepdims=True)\n",
        "\n",
        "trainX = (trainX - cifar_mean) / (cifar_std + 1e-8)\n",
        "testX = (testX - cifar_mean) / (cifar_std + 1e-8)\n",
        "\n",
        "Y_train = np_utils.to_categorical(trainY, nb_classes)\n",
        "Y_test = np_utils.to_categorical(testY, nb_classes)"
      ],
      "execution_count": 0,
      "outputs": []
    },
    {
      "metadata": {
        "id": "eFh7Eyh4DHhl",
        "colab_type": "text"
      },
      "cell_type": "markdown",
      "source": [
        "### Hyper Parameters\n"
      ]
    },
    {
      "metadata": {
        "id": "aAycUnen-ayf",
        "colab_type": "code",
        "colab": {
          "autoexec": {
            "startup": false,
            "wait_interval": 0
          }
        }
      },
      "cell_type": "code",
      "source": [
        "dropout_rate = 0.0\n",
        "growth_rate=24\n",
        "compression = 0.5\n",
        "depth = 40\n",
        "bottleneck=False\n",
        "weight_decay=1e-4"
      ],
      "execution_count": 0,
      "outputs": []
    },
    {
      "metadata": {
        "id": "0KqfSvzGD9lX",
        "colab_type": "text"
      },
      "cell_type": "markdown",
      "source": [
        "**Batch Normalization** : Use to normalize output of previous activation layer\n",
        "\n",
        "**Relu** : Use to convert all the negative values to zero and positive values unchanged\n",
        "\n",
        "**Conv2D**: Apply kernel with receptive field size of 3x3 with bias zero and padding same to maintain output feature map same as input feature map\n",
        "\n",
        "**Dropout**: Reducing overfiitting by dropping few node randomly\n",
        "\n",
        "**Bottleneck Layer** : To improve computational efficiency we can introduce bottleneck layer 3x3 convolution layer to reduce the no of feature maps\n",
        "\n",
        "**Compression**:  We can also reduce feature maps in transition layer by introducing compression factor whose value lies between $0<\\theta\\le1$"
      ]
    },
    {
      "metadata": {
        "id": "T9pRh1iwD4E_",
        "colab_type": "text"
      },
      "cell_type": "markdown",
      "source": [
        "###Exponential $2^N$\n",
        "We consider skip connections only at depths of $2^N$.  \n",
        "\n",
        "**input** : List of processed layers\n",
        "\n",
        "**returns** : layers which are exponential of $2^N$"
      ]
    },
    {
      "metadata": {
        "id": "JzItM4I2BRr4",
        "colab_type": "code",
        "colab": {
          "autoexec": {
            "startup": false,
            "wait_interval": 0
          }
        }
      },
      "cell_type": "code",
      "source": [
        "def _exponential_index_fetch(x_list):\n",
        "    count = len(x_list)\n",
        "    i = 1\n",
        "    inputs = []\n",
        "    while i <= count:\n",
        "      inputs.append(x_list[count - i])\n",
        "      i *= 2\n",
        "    return inputs"
      ],
      "execution_count": 0,
      "outputs": []
    },
    {
      "metadata": {
        "id": "GWaC0FbvEJzK",
        "colab_type": "text"
      },
      "cell_type": "markdown",
      "source": [
        "###Convolution Layer with &amp; Wihtout Bottleneck Layer\n",
        "\n",
        "###Parameters:\n",
        "\n",
        "**Input**: previous layer output (ip), num of filter (nb_filter)\n",
        "\n",
        "**Output** : current layer output (x)\n",
        "\n",
        "**note**: Both bottleneck layer and dropout are conditional "
      ]
    },
    {
      "metadata": {
        "id": "5ulmYZkCBZjz",
        "colab_type": "code",
        "colab": {
          "autoexec": {
            "startup": false,
            "wait_interval": 0
          }
        }
      },
      "cell_type": "code",
      "source": [
        "def add_conv_block(ip, nb_filter):\n",
        "    \n",
        "  concat_axis = -1\n",
        "\n",
        "  x = BatchNormalization(axis=concat_axis, momentum=0.1, epsilon=1e-5)(ip)\n",
        "  x = Activation('relu')(x)\n",
        "\n",
        "  if bottleneck:\n",
        "    # Obtained from https://github.com/liuzhuang13/DenseNet/blob/master/densenet.lua\n",
        "    inter_channel = nb_filter * 4 \n",
        "\n",
        "    x = Conv2D(inter_channel, (1, 1), kernel_initializer='he_normal', padding='same', use_bias=False,\n",
        "               kernel_regularizer=l2(weight_decay))(x)\n",
        "    x = BatchNormalization(axis=concat_axis, epsilon=1e-5, momentum=0.1)(x)\n",
        "    x = Activation('relu')(x)\n",
        "\n",
        "  x = Conv2D(nb_filter, (3, 3), kernel_initializer='he_normal', padding='same', use_bias=False)(x)\n",
        "  if dropout_rate > 0.0:\n",
        "    x = Dropout(dropout_rate)(x)\n",
        "\n",
        "  return x"
      ],
      "execution_count": 0,
      "outputs": []
    },
    {
      "metadata": {
        "id": "koOi5COMFZ41",
        "colab_type": "text"
      },
      "cell_type": "markdown",
      "source": [
        "### Dense Block\n",
        "\n",
        "###Parameters:\n",
        "\n",
        "**Input**: \n",
        "\n",
        "1.   previous layer output (ip)\n",
        "2.   no of layers per dense block (nb_layers)\n",
        "3. rate at which no of filter grow (growth_rate), grow filter exponentially               (grow_nb_filters)\n",
        "\n",
        "**Output** : \n",
        "1. current layer output (x) \n",
        "2. no of filter (nb_filter)\n",
        "\n",
        "###Explanation\n",
        "\n",
        "In this function we create layers based on no of layers (nb_layers)  and concatenate  output layers from previous layers  which are $2^N$  exponential and also grow no of filter exponentially \n"
      ]
    },
    {
      "metadata": {
        "id": "gHOTlQmjBctr",
        "colab_type": "code",
        "colab": {
          "autoexec": {
            "startup": false,
            "wait_interval": 0
          }
        }
      },
      "cell_type": "code",
      "source": [
        "def add_dense_block(x, nb_layers, nb_filter):\n",
        "    \n",
        "    concat_axis = -1\n",
        "\n",
        "    x_list = [x]\n",
        "    channel_list = [nb_filter]\n",
        "\n",
        "    for i in range(nb_layers):\n",
        "      x = add_conv_block(x, growth_rate)\n",
        "      x_list.append(x)\n",
        "\n",
        "      fetch_outputs = _exponential_index_fetch(x_list)\n",
        "      x = concatenate(fetch_outputs, axis=concat_axis)\n",
        "\n",
        "      channel_list.append(growth_rate)\n",
        "\n",
        "    nb_filter = sum(_exponential_index_fetch(channel_list))\n",
        "\n",
        "    return x, nb_filter"
      ],
      "execution_count": 0,
      "outputs": []
    },
    {
      "metadata": {
        "id": "zSkYgQuLFfSy",
        "colab_type": "text"
      },
      "cell_type": "markdown",
      "source": [
        "###Transition Layer\n",
        "\n",
        "\n",
        "###Parameters:\n",
        "\n",
        "**Input**: \n",
        "\n",
        "1.   previous layer output (ip)\n",
        "2. no of filters (nb_filter)\n",
        "3. reduction ratio of transition layer (compression)\n",
        "\n",
        "**Output** : \n",
        "1. current layer output (x) \n",
        "\n",
        "###Explanation\n",
        "\n",
        "Use to reduce the no of feature maps after each dense block. This is use to control no of parameters that flow to next dense block for better computancy. Using compression we control the reduction ratio of transition layer"
      ]
    },
    {
      "metadata": {
        "id": "o1LKpdeQBg9G",
        "colab_type": "code",
        "colab": {
          "autoexec": {
            "startup": false,
            "wait_interval": 0
          }
        }
      },
      "cell_type": "code",
      "source": [
        "def add_transition_block(ip, nb_filter):\n",
        "  concat_axis = -1\n",
        "  x = BatchNormalization(axis=concat_axis, epsilon=1e-5, momentum=0.1)(ip)\n",
        "  x = Activation('relu')(x)\n",
        "  x = Conv2D(int(nb_filter * compression), (1, 1), kernel_initializer='he_normal', padding='same', use_bias=False,\n",
        "             kernel_regularizer=l2(weight_decay))(x)\n",
        "  x = AveragePooling2D((2, 2))(x)\n",
        "\n",
        "  return x"
      ],
      "execution_count": 0,
      "outputs": []
    },
    {
      "metadata": {
        "id": "n8zfwIBgFsPP",
        "colab_type": "text"
      },
      "cell_type": "markdown",
      "source": [
        "###Create Sparsenet\n",
        "\n",
        "\n",
        "###Parameters:\n",
        "\n",
        "**Input**: \n",
        "\n",
        "1.   Image Input (img_input)\n",
        "2.   total no of layer in the given sparsenet model (depth)\n",
        "4. growth rate\n",
        "\n",
        "**Output** : \n",
        "1. model output (x) \n",
        "\n",
        "###Explanation\n",
        "\n",
        "Based on given depth we divide total no layers into layers in dense block, layer in transition layer and layer in bottleneck layer using the below formula we divide the layers into the given blocks and layers\n",
        "<center>$Depth = 3N+4$</center>\n",
        "**note**: by default we consider 3 dense block and last dense block doesn't have transition layer\n",
        "\n",
        "We convert given no of dense block in our case 3 into a list and also growth rate into list remember both lost should be of dense block size\n",
        "\n",
        "We assign nb_filter = growth rate for firstlayer which is a convolution layer of kerner receptive field size of 3x3 following this layers is our 3 dense block and 2 transition layer and bottleneck layers if true and finall y the output layer"
      ]
    },
    {
      "metadata": {
        "id": "Bgj-OFe3BlUD",
        "colab_type": "code",
        "colab": {
          "autoexec": {
            "startup": false,
            "wait_interval": 0
          }
        }
      },
      "cell_type": "code",
      "source": [
        "def create_dense_net(img_input):\n",
        "   \n",
        "    global compression\n",
        "    #channel_last\n",
        "    concat_axis = -1\n",
        "    #no of dense_block\n",
        "    nb_dense_block=3\n",
        "\n",
        "    # layers in each dense block\n",
        "    assert (depth - 4) % nb_dense_block == 0, 'Depth must be 3 N + 4'\n",
        "    count = int((depth - 4) / nb_dense_block)\n",
        "\n",
        "    if bottleneck:\n",
        "      count = count // 2\n",
        "    else:\n",
        "      compression = 1\n",
        "\n",
        "    #convert int list\n",
        "    nb_layers = [count for _ in range(nb_dense_block)]\n",
        "    final_nb_layer = count\n",
        "\n",
        "    # compute initial nb_filter\n",
        "    nb_filter = 2 * growth_rate\n",
        "\n",
        "    # Initial convolution\n",
        "    x = Conv2D(nb_filter, (3,3), kernel_initializer='he_normal', padding='same', use_bias=False, kernel_regularizer=l2(weight_decay))(img_input)\n",
        "\n",
        "    # Add dense blocks\n",
        "    for i in range(nb_dense_block - 1):\n",
        "        # add dense block\n",
        "        x, nb_filter = add_dense_block(x, nb_layers[i], nb_filter)\n",
        "        # add transition_block\n",
        "        x = add_transition_block(x, nb_filter)\n",
        "        nb_filter = int(nb_filter * compression)\n",
        "\n",
        "    # The last dense_block does not have a transition_block\n",
        "    x, nb_filter = add_dense_block(x, final_nb_layer, nb_filter)\n",
        "\n",
        "    x = BatchNormalization(axis=concat_axis, epsilon=1e-5, momentum=0.1)(x)\n",
        "    x = Activation('relu')(x)\n",
        "    x = GlobalAveragePooling2D()(x)\n",
        "\n",
        "    x = Dense(nb_classes, activation='softmax')(x)\n",
        "\n",
        "    return x"
      ],
      "execution_count": 0,
      "outputs": []
    },
    {
      "metadata": {
        "id": "Vpm513P7FyHd",
        "colab_type": "text"
      },
      "cell_type": "markdown",
      "source": [
        "###Create Sparse Model\n",
        "###parameters\n",
        "**batch_size** :  The datasets which we use is cifar and consist of 50000 train and 10000 test images which we divide into no of batches with each batch size equal to 64 and total no of batches forms 1 epoch"
      ]
    },
    {
      "metadata": {
        "id": "y511YpgB6C0S",
        "colab_type": "code",
        "colab": {
          "autoexec": {
            "startup": false,
            "wait_interval": 0
          }
        }
      },
      "cell_type": "code",
      "source": [
        "def SparseNet(input_shape):\n",
        "    \n",
        "    inputs = Input(shape=input_shape)\n",
        "    \n",
        "    output = create_dense_net(inputs)\n",
        "        \n",
        "    # Create model.\n",
        "    model = Model(inputs, output)\n",
        "    return model"
      ],
      "execution_count": 0,
      "outputs": []
    },
    {
      "metadata": {
        "id": "wGFtCLK96NJl",
        "colab_type": "code",
        "colab": {
          "autoexec": {
            "startup": false,
            "wait_interval": 0
          },
          "base_uri": "https://localhost:8080/",
          "height": 6953
        },
        "outputId": "abaf4e96-cbfd-4016-b2ed-9148b0814e45",
        "executionInfo": {
          "status": "ok",
          "timestamp": 1530371637221,
          "user_tz": -330,
          "elapsed": 6523,
          "user": {
            "displayName": "toniq apps",
            "photoUrl": "https://lh3.googleusercontent.com/a/default-user=s128",
            "userId": "108421831546381233222"
          }
        }
      },
      "cell_type": "code",
      "source": [
        "model = SparseNet((None,None,nb_channels))\n",
        "print(\"Model created\")\n",
        "\n",
        "model.summary()"
      ],
      "execution_count": 52,
      "outputs": [
        {
          "output_type": "stream",
          "text": [
            "Model created\n",
            "__________________________________________________________________________________________________\n",
            "Layer (type)                    Output Shape         Param #     Connected to                     \n",
            "==================================================================================================\n",
            "input_3 (InputLayer)            (None, None, None, 3 0                                            \n",
            "__________________________________________________________________________________________________\n",
            "conv2d_79 (Conv2D)              (None, None, None, 4 1296        input_3[0][0]                    \n",
            "__________________________________________________________________________________________________\n",
            "batch_normalization_79 (BatchNo (None, None, None, 4 192         conv2d_79[0][0]                  \n",
            "__________________________________________________________________________________________________\n",
            "activation_79 (Activation)      (None, None, None, 4 0           batch_normalization_79[0][0]     \n",
            "__________________________________________________________________________________________________\n",
            "conv2d_80 (Conv2D)              (None, None, None, 2 10368       activation_79[0][0]              \n",
            "__________________________________________________________________________________________________\n",
            "concatenate_73 (Concatenate)    (None, None, None, 7 0           conv2d_80[0][0]                  \n",
            "                                                                 conv2d_79[0][0]                  \n",
            "__________________________________________________________________________________________________\n",
            "batch_normalization_80 (BatchNo (None, None, None, 7 288         concatenate_73[0][0]             \n",
            "__________________________________________________________________________________________________\n",
            "activation_80 (Activation)      (None, None, None, 7 0           batch_normalization_80[0][0]     \n",
            "__________________________________________________________________________________________________\n",
            "conv2d_81 (Conv2D)              (None, None, None, 2 15552       activation_80[0][0]              \n",
            "__________________________________________________________________________________________________\n",
            "concatenate_74 (Concatenate)    (None, None, None, 4 0           conv2d_81[0][0]                  \n",
            "                                                                 conv2d_80[0][0]                  \n",
            "__________________________________________________________________________________________________\n",
            "batch_normalization_81 (BatchNo (None, None, None, 4 192         concatenate_74[0][0]             \n",
            "__________________________________________________________________________________________________\n",
            "activation_81 (Activation)      (None, None, None, 4 0           batch_normalization_81[0][0]     \n",
            "__________________________________________________________________________________________________\n",
            "conv2d_82 (Conv2D)              (None, None, None, 2 10368       activation_81[0][0]              \n",
            "__________________________________________________________________________________________________\n",
            "concatenate_75 (Concatenate)    (None, None, None, 9 0           conv2d_82[0][0]                  \n",
            "                                                                 conv2d_81[0][0]                  \n",
            "                                                                 conv2d_79[0][0]                  \n",
            "__________________________________________________________________________________________________\n",
            "batch_normalization_82 (BatchNo (None, None, None, 9 384         concatenate_75[0][0]             \n",
            "__________________________________________________________________________________________________\n",
            "activation_82 (Activation)      (None, None, None, 9 0           batch_normalization_82[0][0]     \n",
            "__________________________________________________________________________________________________\n",
            "conv2d_83 (Conv2D)              (None, None, None, 2 20736       activation_82[0][0]              \n",
            "__________________________________________________________________________________________________\n",
            "concatenate_76 (Concatenate)    (None, None, None, 7 0           conv2d_83[0][0]                  \n",
            "                                                                 conv2d_82[0][0]                  \n",
            "                                                                 conv2d_80[0][0]                  \n",
            "__________________________________________________________________________________________________\n",
            "batch_normalization_83 (BatchNo (None, None, None, 7 288         concatenate_76[0][0]             \n",
            "__________________________________________________________________________________________________\n",
            "activation_83 (Activation)      (None, None, None, 7 0           batch_normalization_83[0][0]     \n",
            "__________________________________________________________________________________________________\n",
            "conv2d_84 (Conv2D)              (None, None, None, 2 15552       activation_83[0][0]              \n",
            "__________________________________________________________________________________________________\n",
            "concatenate_77 (Concatenate)    (None, None, None, 7 0           conv2d_84[0][0]                  \n",
            "                                                                 conv2d_83[0][0]                  \n",
            "                                                                 conv2d_81[0][0]                  \n",
            "__________________________________________________________________________________________________\n",
            "batch_normalization_84 (BatchNo (None, None, None, 7 288         concatenate_77[0][0]             \n",
            "__________________________________________________________________________________________________\n",
            "activation_84 (Activation)      (None, None, None, 7 0           batch_normalization_84[0][0]     \n",
            "__________________________________________________________________________________________________\n",
            "conv2d_85 (Conv2D)              (None, None, None, 2 15552       activation_84[0][0]              \n",
            "__________________________________________________________________________________________________\n",
            "concatenate_78 (Concatenate)    (None, None, None, 7 0           conv2d_85[0][0]                  \n",
            "                                                                 conv2d_84[0][0]                  \n",
            "                                                                 conv2d_82[0][0]                  \n",
            "__________________________________________________________________________________________________\n",
            "batch_normalization_85 (BatchNo (None, None, None, 7 288         concatenate_78[0][0]             \n",
            "__________________________________________________________________________________________________\n",
            "activation_85 (Activation)      (None, None, None, 7 0           batch_normalization_85[0][0]     \n",
            "__________________________________________________________________________________________________\n",
            "conv2d_86 (Conv2D)              (None, None, None, 2 15552       activation_85[0][0]              \n",
            "__________________________________________________________________________________________________\n",
            "concatenate_79 (Concatenate)    (None, None, None, 1 0           conv2d_86[0][0]                  \n",
            "                                                                 conv2d_85[0][0]                  \n",
            "                                                                 conv2d_83[0][0]                  \n",
            "                                                                 conv2d_79[0][0]                  \n",
            "__________________________________________________________________________________________________\n",
            "batch_normalization_86 (BatchNo (None, None, None, 1 480         concatenate_79[0][0]             \n",
            "__________________________________________________________________________________________________\n",
            "activation_86 (Activation)      (None, None, None, 1 0           batch_normalization_86[0][0]     \n",
            "__________________________________________________________________________________________________\n",
            "conv2d_87 (Conv2D)              (None, None, None, 2 25920       activation_86[0][0]              \n",
            "__________________________________________________________________________________________________\n",
            "concatenate_80 (Concatenate)    (None, None, None, 9 0           conv2d_87[0][0]                  \n",
            "                                                                 conv2d_86[0][0]                  \n",
            "                                                                 conv2d_84[0][0]                  \n",
            "                                                                 conv2d_80[0][0]                  \n",
            "__________________________________________________________________________________________________\n",
            "batch_normalization_87 (BatchNo (None, None, None, 9 384         concatenate_80[0][0]             \n",
            "__________________________________________________________________________________________________\n",
            "activation_87 (Activation)      (None, None, None, 9 0           batch_normalization_87[0][0]     \n",
            "__________________________________________________________________________________________________\n",
            "conv2d_88 (Conv2D)              (None, None, None, 2 20736       activation_87[0][0]              \n",
            "__________________________________________________________________________________________________\n",
            "concatenate_81 (Concatenate)    (None, None, None, 9 0           conv2d_88[0][0]                  \n",
            "                                                                 conv2d_87[0][0]                  \n",
            "                                                                 conv2d_85[0][0]                  \n",
            "                                                                 conv2d_81[0][0]                  \n",
            "__________________________________________________________________________________________________\n",
            "batch_normalization_88 (BatchNo (None, None, None, 9 384         concatenate_81[0][0]             \n",
            "__________________________________________________________________________________________________\n",
            "activation_88 (Activation)      (None, None, None, 9 0           batch_normalization_88[0][0]     \n",
            "__________________________________________________________________________________________________\n",
            "conv2d_89 (Conv2D)              (None, None, None, 2 20736       activation_88[0][0]              \n",
            "__________________________________________________________________________________________________\n",
            "concatenate_82 (Concatenate)    (None, None, None, 9 0           conv2d_89[0][0]                  \n",
            "                                                                 conv2d_88[0][0]                  \n",
            "                                                                 conv2d_86[0][0]                  \n",
            "                                                                 conv2d_82[0][0]                  \n",
            "__________________________________________________________________________________________________\n",
            "batch_normalization_89 (BatchNo (None, None, None, 9 384         concatenate_82[0][0]             \n",
            "__________________________________________________________________________________________________\n",
            "activation_89 (Activation)      (None, None, None, 9 0           batch_normalization_89[0][0]     \n",
            "__________________________________________________________________________________________________\n",
            "conv2d_90 (Conv2D)              (None, None, None, 2 20736       activation_89[0][0]              \n",
            "__________________________________________________________________________________________________\n",
            "concatenate_83 (Concatenate)    (None, None, None, 9 0           conv2d_90[0][0]                  \n",
            "                                                                 conv2d_89[0][0]                  \n",
            "                                                                 conv2d_87[0][0]                  \n",
            "                                                                 conv2d_83[0][0]                  \n",
            "__________________________________________________________________________________________________\n",
            "batch_normalization_90 (BatchNo (None, None, None, 9 384         concatenate_83[0][0]             \n",
            "__________________________________________________________________________________________________\n",
            "activation_90 (Activation)      (None, None, None, 9 0           batch_normalization_90[0][0]     \n",
            "__________________________________________________________________________________________________\n",
            "conv2d_91 (Conv2D)              (None, None, None, 2 20736       activation_90[0][0]              \n",
            "__________________________________________________________________________________________________\n",
            "concatenate_84 (Concatenate)    (None, None, None, 9 0           conv2d_91[0][0]                  \n",
            "                                                                 conv2d_90[0][0]                  \n",
            "                                                                 conv2d_88[0][0]                  \n",
            "                                                                 conv2d_84[0][0]                  \n",
            "__________________________________________________________________________________________________\n",
            "batch_normalization_91 (BatchNo (None, None, None, 9 384         concatenate_84[0][0]             \n",
            "__________________________________________________________________________________________________\n",
            "activation_91 (Activation)      (None, None, None, 9 0           batch_normalization_91[0][0]     \n",
            "__________________________________________________________________________________________________\n",
            "conv2d_92 (Conv2D)              (None, None, None, 9 9216        activation_91[0][0]              \n",
            "__________________________________________________________________________________________________\n",
            "average_pooling2d_5 (AveragePoo (None, None, None, 9 0           conv2d_92[0][0]                  \n",
            "__________________________________________________________________________________________________\n",
            "batch_normalization_92 (BatchNo (None, None, None, 9 384         average_pooling2d_5[0][0]        \n",
            "__________________________________________________________________________________________________\n",
            "activation_92 (Activation)      (None, None, None, 9 0           batch_normalization_92[0][0]     \n",
            "__________________________________________________________________________________________________\n",
            "conv2d_93 (Conv2D)              (None, None, None, 2 20736       activation_92[0][0]              \n",
            "__________________________________________________________________________________________________\n",
            "concatenate_85 (Concatenate)    (None, None, None, 1 0           conv2d_93[0][0]                  \n",
            "                                                                 average_pooling2d_5[0][0]        \n",
            "__________________________________________________________________________________________________\n",
            "batch_normalization_93 (BatchNo (None, None, None, 1 480         concatenate_85[0][0]             \n",
            "__________________________________________________________________________________________________\n",
            "activation_93 (Activation)      (None, None, None, 1 0           batch_normalization_93[0][0]     \n",
            "__________________________________________________________________________________________________\n",
            "conv2d_94 (Conv2D)              (None, None, None, 2 25920       activation_93[0][0]              \n",
            "__________________________________________________________________________________________________\n",
            "concatenate_86 (Concatenate)    (None, None, None, 4 0           conv2d_94[0][0]                  \n",
            "                                                                 conv2d_93[0][0]                  \n",
            "__________________________________________________________________________________________________\n",
            "batch_normalization_94 (BatchNo (None, None, None, 4 192         concatenate_86[0][0]             \n",
            "__________________________________________________________________________________________________\n",
            "activation_94 (Activation)      (None, None, None, 4 0           batch_normalization_94[0][0]     \n",
            "__________________________________________________________________________________________________\n",
            "conv2d_95 (Conv2D)              (None, None, None, 2 10368       activation_94[0][0]              \n",
            "__________________________________________________________________________________________________\n",
            "concatenate_87 (Concatenate)    (None, None, None, 1 0           conv2d_95[0][0]                  \n",
            "                                                                 conv2d_94[0][0]                  \n",
            "                                                                 average_pooling2d_5[0][0]        \n",
            "__________________________________________________________________________________________________\n",
            "batch_normalization_95 (BatchNo (None, None, None, 1 576         concatenate_87[0][0]             \n",
            "__________________________________________________________________________________________________\n",
            "activation_95 (Activation)      (None, None, None, 1 0           batch_normalization_95[0][0]     \n",
            "__________________________________________________________________________________________________\n",
            "conv2d_96 (Conv2D)              (None, None, None, 2 31104       activation_95[0][0]              \n",
            "__________________________________________________________________________________________________\n",
            "concatenate_88 (Concatenate)    (None, None, None, 7 0           conv2d_96[0][0]                  \n",
            "                                                                 conv2d_95[0][0]                  \n",
            "                                                                 conv2d_93[0][0]                  \n",
            "__________________________________________________________________________________________________\n",
            "batch_normalization_96 (BatchNo (None, None, None, 7 288         concatenate_88[0][0]             \n",
            "__________________________________________________________________________________________________\n",
            "activation_96 (Activation)      (None, None, None, 7 0           batch_normalization_96[0][0]     \n",
            "__________________________________________________________________________________________________\n",
            "conv2d_97 (Conv2D)              (None, None, None, 2 15552       activation_96[0][0]              \n",
            "__________________________________________________________________________________________________\n",
            "concatenate_89 (Concatenate)    (None, None, None, 7 0           conv2d_97[0][0]                  \n",
            "                                                                 conv2d_96[0][0]                  \n",
            "                                                                 conv2d_94[0][0]                  \n",
            "__________________________________________________________________________________________________\n",
            "batch_normalization_97 (BatchNo (None, None, None, 7 288         concatenate_89[0][0]             \n",
            "__________________________________________________________________________________________________\n",
            "activation_97 (Activation)      (None, None, None, 7 0           batch_normalization_97[0][0]     \n",
            "__________________________________________________________________________________________________\n",
            "conv2d_98 (Conv2D)              (None, None, None, 2 15552       activation_97[0][0]              \n",
            "__________________________________________________________________________________________________\n",
            "concatenate_90 (Concatenate)    (None, None, None, 7 0           conv2d_98[0][0]                  \n",
            "                                                                 conv2d_97[0][0]                  \n",
            "                                                                 conv2d_95[0][0]                  \n",
            "__________________________________________________________________________________________________\n",
            "batch_normalization_98 (BatchNo (None, None, None, 7 288         concatenate_90[0][0]             \n",
            "__________________________________________________________________________________________________\n",
            "activation_98 (Activation)      (None, None, None, 7 0           batch_normalization_98[0][0]     \n",
            "__________________________________________________________________________________________________\n",
            "conv2d_99 (Conv2D)              (None, None, None, 2 15552       activation_98[0][0]              \n",
            "__________________________________________________________________________________________________\n",
            "concatenate_91 (Concatenate)    (None, None, None, 1 0           conv2d_99[0][0]                  \n",
            "                                                                 conv2d_98[0][0]                  \n",
            "                                                                 conv2d_96[0][0]                  \n",
            "                                                                 average_pooling2d_5[0][0]        \n",
            "__________________________________________________________________________________________________\n",
            "batch_normalization_99 (BatchNo (None, None, None, 1 672         concatenate_91[0][0]             \n",
            "__________________________________________________________________________________________________\n",
            "activation_99 (Activation)      (None, None, None, 1 0           batch_normalization_99[0][0]     \n",
            "__________________________________________________________________________________________________\n",
            "conv2d_100 (Conv2D)             (None, None, None, 2 36288       activation_99[0][0]              \n",
            "__________________________________________________________________________________________________\n",
            "concatenate_92 (Concatenate)    (None, None, None, 9 0           conv2d_100[0][0]                 \n",
            "                                                                 conv2d_99[0][0]                  \n",
            "                                                                 conv2d_97[0][0]                  \n",
            "                                                                 conv2d_93[0][0]                  \n",
            "__________________________________________________________________________________________________\n",
            "batch_normalization_100 (BatchN (None, None, None, 9 384         concatenate_92[0][0]             \n",
            "__________________________________________________________________________________________________\n",
            "activation_100 (Activation)     (None, None, None, 9 0           batch_normalization_100[0][0]    \n",
            "__________________________________________________________________________________________________\n",
            "conv2d_101 (Conv2D)             (None, None, None, 2 20736       activation_100[0][0]             \n",
            "__________________________________________________________________________________________________\n",
            "concatenate_93 (Concatenate)    (None, None, None, 9 0           conv2d_101[0][0]                 \n",
            "                                                                 conv2d_100[0][0]                 \n",
            "                                                                 conv2d_98[0][0]                  \n",
            "                                                                 conv2d_94[0][0]                  \n",
            "__________________________________________________________________________________________________\n",
            "batch_normalization_101 (BatchN (None, None, None, 9 384         concatenate_93[0][0]             \n",
            "__________________________________________________________________________________________________\n",
            "activation_101 (Activation)     (None, None, None, 9 0           batch_normalization_101[0][0]    \n",
            "__________________________________________________________________________________________________\n",
            "conv2d_102 (Conv2D)             (None, None, None, 2 20736       activation_101[0][0]             \n",
            "__________________________________________________________________________________________________\n",
            "concatenate_94 (Concatenate)    (None, None, None, 9 0           conv2d_102[0][0]                 \n",
            "                                                                 conv2d_101[0][0]                 \n",
            "                                                                 conv2d_99[0][0]                  \n",
            "                                                                 conv2d_95[0][0]                  \n",
            "__________________________________________________________________________________________________\n",
            "batch_normalization_102 (BatchN (None, None, None, 9 384         concatenate_94[0][0]             \n",
            "__________________________________________________________________________________________________\n",
            "activation_102 (Activation)     (None, None, None, 9 0           batch_normalization_102[0][0]    \n",
            "__________________________________________________________________________________________________\n",
            "conv2d_103 (Conv2D)             (None, None, None, 2 20736       activation_102[0][0]             \n",
            "__________________________________________________________________________________________________\n",
            "concatenate_95 (Concatenate)    (None, None, None, 9 0           conv2d_103[0][0]                 \n",
            "                                                                 conv2d_102[0][0]                 \n",
            "                                                                 conv2d_100[0][0]                 \n",
            "                                                                 conv2d_96[0][0]                  \n",
            "__________________________________________________________________________________________________\n",
            "batch_normalization_103 (BatchN (None, None, None, 9 384         concatenate_95[0][0]             \n",
            "__________________________________________________________________________________________________\n",
            "activation_103 (Activation)     (None, None, None, 9 0           batch_normalization_103[0][0]    \n",
            "__________________________________________________________________________________________________\n",
            "conv2d_104 (Conv2D)             (None, None, None, 2 20736       activation_103[0][0]             \n",
            "__________________________________________________________________________________________________\n",
            "concatenate_96 (Concatenate)    (None, None, None, 9 0           conv2d_104[0][0]                 \n",
            "                                                                 conv2d_103[0][0]                 \n",
            "                                                                 conv2d_101[0][0]                 \n",
            "                                                                 conv2d_97[0][0]                  \n",
            "__________________________________________________________________________________________________\n",
            "batch_normalization_104 (BatchN (None, None, None, 9 384         concatenate_96[0][0]             \n",
            "__________________________________________________________________________________________________\n",
            "activation_104 (Activation)     (None, None, None, 9 0           batch_normalization_104[0][0]    \n",
            "__________________________________________________________________________________________________\n",
            "conv2d_105 (Conv2D)             (None, None, None, 9 9216        activation_104[0][0]             \n",
            "__________________________________________________________________________________________________\n",
            "average_pooling2d_6 (AveragePoo (None, None, None, 9 0           conv2d_105[0][0]                 \n",
            "__________________________________________________________________________________________________\n",
            "batch_normalization_105 (BatchN (None, None, None, 9 384         average_pooling2d_6[0][0]        \n",
            "__________________________________________________________________________________________________\n",
            "activation_105 (Activation)     (None, None, None, 9 0           batch_normalization_105[0][0]    \n",
            "__________________________________________________________________________________________________\n",
            "conv2d_106 (Conv2D)             (None, None, None, 2 20736       activation_105[0][0]             \n",
            "__________________________________________________________________________________________________\n",
            "concatenate_97 (Concatenate)    (None, None, None, 1 0           conv2d_106[0][0]                 \n",
            "                                                                 average_pooling2d_6[0][0]        \n",
            "__________________________________________________________________________________________________\n",
            "batch_normalization_106 (BatchN (None, None, None, 1 480         concatenate_97[0][0]             \n",
            "__________________________________________________________________________________________________\n",
            "activation_106 (Activation)     (None, None, None, 1 0           batch_normalization_106[0][0]    \n",
            "__________________________________________________________________________________________________\n",
            "conv2d_107 (Conv2D)             (None, None, None, 2 25920       activation_106[0][0]             \n",
            "__________________________________________________________________________________________________\n",
            "concatenate_98 (Concatenate)    (None, None, None, 4 0           conv2d_107[0][0]                 \n",
            "                                                                 conv2d_106[0][0]                 \n",
            "__________________________________________________________________________________________________\n",
            "batch_normalization_107 (BatchN (None, None, None, 4 192         concatenate_98[0][0]             \n",
            "__________________________________________________________________________________________________\n",
            "activation_107 (Activation)     (None, None, None, 4 0           batch_normalization_107[0][0]    \n",
            "__________________________________________________________________________________________________\n",
            "conv2d_108 (Conv2D)             (None, None, None, 2 10368       activation_107[0][0]             \n",
            "__________________________________________________________________________________________________\n",
            "concatenate_99 (Concatenate)    (None, None, None, 1 0           conv2d_108[0][0]                 \n",
            "                                                                 conv2d_107[0][0]                 \n",
            "                                                                 average_pooling2d_6[0][0]        \n",
            "__________________________________________________________________________________________________\n",
            "batch_normalization_108 (BatchN (None, None, None, 1 576         concatenate_99[0][0]             \n",
            "__________________________________________________________________________________________________\n",
            "activation_108 (Activation)     (None, None, None, 1 0           batch_normalization_108[0][0]    \n",
            "__________________________________________________________________________________________________\n",
            "conv2d_109 (Conv2D)             (None, None, None, 2 31104       activation_108[0][0]             \n",
            "__________________________________________________________________________________________________\n",
            "concatenate_100 (Concatenate)   (None, None, None, 7 0           conv2d_109[0][0]                 \n",
            "                                                                 conv2d_108[0][0]                 \n",
            "                                                                 conv2d_106[0][0]                 \n",
            "__________________________________________________________________________________________________\n",
            "batch_normalization_109 (BatchN (None, None, None, 7 288         concatenate_100[0][0]            \n",
            "__________________________________________________________________________________________________\n",
            "activation_109 (Activation)     (None, None, None, 7 0           batch_normalization_109[0][0]    \n",
            "__________________________________________________________________________________________________\n",
            "conv2d_110 (Conv2D)             (None, None, None, 2 15552       activation_109[0][0]             \n",
            "__________________________________________________________________________________________________\n",
            "concatenate_101 (Concatenate)   (None, None, None, 7 0           conv2d_110[0][0]                 \n",
            "                                                                 conv2d_109[0][0]                 \n",
            "                                                                 conv2d_107[0][0]                 \n",
            "__________________________________________________________________________________________________\n",
            "batch_normalization_110 (BatchN (None, None, None, 7 288         concatenate_101[0][0]            \n",
            "__________________________________________________________________________________________________\n",
            "activation_110 (Activation)     (None, None, None, 7 0           batch_normalization_110[0][0]    \n",
            "__________________________________________________________________________________________________\n",
            "conv2d_111 (Conv2D)             (None, None, None, 2 15552       activation_110[0][0]             \n",
            "__________________________________________________________________________________________________\n",
            "concatenate_102 (Concatenate)   (None, None, None, 7 0           conv2d_111[0][0]                 \n",
            "                                                                 conv2d_110[0][0]                 \n",
            "                                                                 conv2d_108[0][0]                 \n",
            "__________________________________________________________________________________________________\n",
            "batch_normalization_111 (BatchN (None, None, None, 7 288         concatenate_102[0][0]            \n",
            "__________________________________________________________________________________________________\n",
            "activation_111 (Activation)     (None, None, None, 7 0           batch_normalization_111[0][0]    \n",
            "__________________________________________________________________________________________________\n",
            "conv2d_112 (Conv2D)             (None, None, None, 2 15552       activation_111[0][0]             \n",
            "__________________________________________________________________________________________________\n",
            "concatenate_103 (Concatenate)   (None, None, None, 1 0           conv2d_112[0][0]                 \n",
            "                                                                 conv2d_111[0][0]                 \n",
            "                                                                 conv2d_109[0][0]                 \n",
            "                                                                 average_pooling2d_6[0][0]        \n",
            "__________________________________________________________________________________________________\n",
            "batch_normalization_112 (BatchN (None, None, None, 1 672         concatenate_103[0][0]            \n",
            "__________________________________________________________________________________________________\n",
            "activation_112 (Activation)     (None, None, None, 1 0           batch_normalization_112[0][0]    \n",
            "__________________________________________________________________________________________________\n",
            "conv2d_113 (Conv2D)             (None, None, None, 2 36288       activation_112[0][0]             \n",
            "__________________________________________________________________________________________________\n",
            "concatenate_104 (Concatenate)   (None, None, None, 9 0           conv2d_113[0][0]                 \n",
            "                                                                 conv2d_112[0][0]                 \n",
            "                                                                 conv2d_110[0][0]                 \n",
            "                                                                 conv2d_106[0][0]                 \n",
            "__________________________________________________________________________________________________\n",
            "batch_normalization_113 (BatchN (None, None, None, 9 384         concatenate_104[0][0]            \n",
            "__________________________________________________________________________________________________\n",
            "activation_113 (Activation)     (None, None, None, 9 0           batch_normalization_113[0][0]    \n",
            "__________________________________________________________________________________________________\n",
            "conv2d_114 (Conv2D)             (None, None, None, 2 20736       activation_113[0][0]             \n",
            "__________________________________________________________________________________________________\n",
            "concatenate_105 (Concatenate)   (None, None, None, 9 0           conv2d_114[0][0]                 \n",
            "                                                                 conv2d_113[0][0]                 \n",
            "                                                                 conv2d_111[0][0]                 \n",
            "                                                                 conv2d_107[0][0]                 \n",
            "__________________________________________________________________________________________________\n",
            "batch_normalization_114 (BatchN (None, None, None, 9 384         concatenate_105[0][0]            \n",
            "__________________________________________________________________________________________________\n",
            "activation_114 (Activation)     (None, None, None, 9 0           batch_normalization_114[0][0]    \n",
            "__________________________________________________________________________________________________\n",
            "conv2d_115 (Conv2D)             (None, None, None, 2 20736       activation_114[0][0]             \n",
            "__________________________________________________________________________________________________\n",
            "concatenate_106 (Concatenate)   (None, None, None, 9 0           conv2d_115[0][0]                 \n",
            "                                                                 conv2d_114[0][0]                 \n",
            "                                                                 conv2d_112[0][0]                 \n",
            "                                                                 conv2d_108[0][0]                 \n",
            "__________________________________________________________________________________________________\n",
            "batch_normalization_115 (BatchN (None, None, None, 9 384         concatenate_106[0][0]            \n",
            "__________________________________________________________________________________________________\n",
            "activation_115 (Activation)     (None, None, None, 9 0           batch_normalization_115[0][0]    \n",
            "__________________________________________________________________________________________________\n",
            "conv2d_116 (Conv2D)             (None, None, None, 2 20736       activation_115[0][0]             \n",
            "__________________________________________________________________________________________________\n",
            "concatenate_107 (Concatenate)   (None, None, None, 9 0           conv2d_116[0][0]                 \n",
            "                                                                 conv2d_115[0][0]                 \n",
            "                                                                 conv2d_113[0][0]                 \n",
            "                                                                 conv2d_109[0][0]                 \n",
            "__________________________________________________________________________________________________\n",
            "batch_normalization_116 (BatchN (None, None, None, 9 384         concatenate_107[0][0]            \n",
            "__________________________________________________________________________________________________\n",
            "activation_116 (Activation)     (None, None, None, 9 0           batch_normalization_116[0][0]    \n",
            "__________________________________________________________________________________________________\n",
            "conv2d_117 (Conv2D)             (None, None, None, 2 20736       activation_116[0][0]             \n",
            "__________________________________________________________________________________________________\n",
            "concatenate_108 (Concatenate)   (None, None, None, 9 0           conv2d_117[0][0]                 \n",
            "                                                                 conv2d_116[0][0]                 \n",
            "                                                                 conv2d_114[0][0]                 \n",
            "                                                                 conv2d_110[0][0]                 \n",
            "__________________________________________________________________________________________________\n",
            "batch_normalization_117 (BatchN (None, None, None, 9 384         concatenate_108[0][0]            \n",
            "__________________________________________________________________________________________________\n",
            "activation_117 (Activation)     (None, None, None, 9 0           batch_normalization_117[0][0]    \n",
            "__________________________________________________________________________________________________\n",
            "global_average_pooling2d_3 (Glo (None, 96)           0           activation_117[0][0]             \n",
            "__________________________________________________________________________________________________\n",
            "dense_3 (Dense)                 (None, 100)          9700        global_average_pooling2d_3[0][0] \n",
            "==================================================================================================\n",
            "Total params: 764,500\n",
            "Trainable params: 757,252\n",
            "Non-trainable params: 7,248\n",
            "__________________________________________________________________________________________________\n"
          ],
          "name": "stdout"
        }
      ]
    },
    {
      "metadata": {
        "id": "G5n_i7yUGM1B",
        "colab_type": "text"
      },
      "cell_type": "markdown",
      "source": [
        "<b>Image Augmentation</b> If we consider example of dog image in given dataset and all dogs are facing left side then the model may not recognize all the dog facing right side after it its trained for good accuracy which may lead to overfiitting. To reduce over fitting and to improve accuracy we use image augmentation which genrates images from given datasets and produces more images with different angle and flips for better results and also we resize the images into smaller size  as the layers in the intial stages perfoms same pattern detection irrelevant of image size, therfore by reducing the size we can train our model faster and using less computation and then apply the result from this layers to images with large size"
      ]
    },
    {
      "metadata": {
        "id": "z5YsLOYD9aWe",
        "colab_type": "code",
        "colab": {
          "autoexec": {
            "startup": false,
            "wait_interval": 0
          },
          "base_uri": "https://localhost:8080/",
          "height": 350
        },
        "outputId": "8360dfc9-21e8-4a38-f9d9-735e23da52d1",
        "executionInfo": {
          "status": "ok",
          "timestamp": 1530371639501,
          "user_tz": -330,
          "elapsed": 2214,
          "user": {
            "displayName": "toniq apps",
            "photoUrl": "https://lh3.googleusercontent.com/a/default-user=s128",
            "userId": "108421831546381233222"
          }
        }
      },
      "cell_type": "code",
      "source": [
        "generator = ImageDataGenerator(width_shift_range=5. / 32,\n",
        "                               height_shift_range=5. / 32,\n",
        "                               horizontal_flip=True)\n",
        "\n",
        "generator.fit(trainX, seed=0)\n",
        "\n",
        "#Plot \n",
        "# Configure batch size and retrieve one batch of imagesxwd\n",
        "for X_batch, y_batch in generator.flow(trainX, trainY, batch_size=9):\n",
        "    # Show 9 images\n",
        "    for i in range(0, 9):\n",
        "        plt.subplot(330 + 1 + i)\n",
        "        plt.imshow(toimage(X_batch[i].reshape(32, 32, 3)))\n",
        "    # show the plot\n",
        "    plt.show()\n",
        "    break"
      ],
      "execution_count": 53,
      "outputs": [
        {
          "output_type": "display_data",
          "data": {
            "image/png": "[encoded data removed]",
            "text/plain": [
              "<matplotlib.figure.Figure at 0x7f6fbe761be0>"
            ]
          },
          "metadata": {
            "tags": []
          }
        }
      ]
    },
    {
      "metadata": {
        "id": "8WDGYRR1CA0U",
        "colab_type": "text"
      },
      "cell_type": "markdown",
      "source": [
        "### Cyclic Learning Rate\n",
        " <div align=\"justify\">This callback implements a cyclical learning rate policy (CLR).\n",
        "    The method cycles the learning rate between two boundaries with\n",
        "    some constant frequency, as detailed in this paper (https://arxiv.org/abs/1506.01186).\n",
        "    The amplitude of the cycle can be scaled on a per-iteration or per-cycle basis.\n",
        "    This class has three built-in policies, as put forth in the paper.\n",
        "    <br><br>\n",
        "    1. <b>triangular</b>: A basic triangular cycle w/ no amplitude scaling.<br>\n",
        "    2. <b>triangular2</b>: A basic triangular cycle that scales initial amplitude by half each cycle.<br>\n",
        "    3. <b>exp_range</b>: A cycle that scales initial amplitude by gamma (cycle iterations) at each \n",
        "        cycle iteration.<br></div>"
      ]
    },
    {
      "metadata": {
        "id": "dYeTXj2cYaS7",
        "colab_type": "text"
      },
      "cell_type": "markdown",
      "source": [
        "### Arguments\n",
        "  <br><b> base_lr</b>: initial learning rate which is the lower boundary in the cycle.\n",
        "  <br><b>max_lr</b>: upper boundary in the cycle. Functionally, it defines the cycle amplitude (max_lr - base_lr). The lr at any cycle is the sum of base_lr and some scaling of the amplitude; therefore max_lr may not actually be reached depending on scaling function.\n",
        "  <br><b>step_size</b>: number of training iterations per half cycle. Authors suggest setting step_size 2-8 x training iterations in epoch.\n",
        "  <br><b>mode</b>: one of {triangular, triangular2, exp_range}. Default 'triangular'.  Values correspond to policies detailed above. If scale_fn is not None, this argument is ignored. \n",
        "  <br><b>gamma</b>: constant in 'exp_range' scaling function:  gamma**(cycle iterations)\n",
        "  <br><b>scale_fn</b>: Custom scaling policy defined by a single argument lambda function, where 0 <= scale_fn(x) <= 1 for all x >= 0. mode paramater is ignored  \n",
        "  <b>scale_mode:</b> {'cycle', 'iterations'}. Defines whether scale_fn is evaluated on cycle number or cycle iterations (training iterations since start of cycle). Default is 'cycle'.</div>"
      ]
    },
    {
      "metadata": {
        "id": "L7PH0WmrkduC",
        "colab_type": "code",
        "colab": {
          "autoexec": {
            "startup": false,
            "wait_interval": 0
          }
        }
      },
      "cell_type": "code",
      "source": [
        "from keras.callbacks import *\n",
        "class CyclicLR(Callback):\n",
        "    def __init__(self, base_lr=0.001, max_lr=0.006, step_size=2000, mode='triangular', gamma=1., scale_fn=None, scale_mode='cycle'):\n",
        "        super(CyclicLR, self).__init__()\n",
        "\n",
        "        self.base_lr = base_lr\n",
        "        self.max_lr = max_lr\n",
        "        self.step_size = step_size\n",
        "        self.mode = mode\n",
        "        self.gamma = gamma\n",
        "        if scale_fn == None:\n",
        "            if self.mode == 'triangular':\n",
        "                self.scale_fn = lambda x: 1.\n",
        "                self.scale_mode = 'cycle'\n",
        "            elif self.mode == 'triangular2':\n",
        "                self.scale_fn = lambda x: 1/(2.**(x-1))\n",
        "                self.scale_mode = 'cycle'\n",
        "            elif self.mode == 'exp_range':\n",
        "                self.scale_fn = lambda x: gamma**(x)\n",
        "                self.scale_mode = 'iterations'\n",
        "        else:\n",
        "            self.scale_fn = scale_fn\n",
        "            self.scale_mode = scale_mode\n",
        "        self.clr_iterations = 0.\n",
        "        self.trn_iterations = 0.\n",
        "        self.history = {}\n",
        "\n",
        "        self._reset()\n",
        "\n",
        "    def _reset(self, new_base_lr=None, new_max_lr=None,\n",
        "               new_step_size=None):\n",
        "        \"\"\"Resets cycle iterations.\n",
        "        Optional boundary/step size adjustment.\n",
        "        \"\"\"\n",
        "        if new_base_lr != None:\n",
        "            self.base_lr = new_base_lr\n",
        "        if new_max_lr != None:\n",
        "            self.max_lr = new_max_lr\n",
        "        if new_step_size != None:\n",
        "            self.step_size = new_step_size\n",
        "        self.clr_iterations = 0.\n",
        "        \n",
        "    def clr(self):\n",
        "        cycle = np.floor(1+self.clr_iterations/(2*self.step_size))\n",
        "        x = np.abs(self.clr_iterations/self.step_size - 2*cycle + 1)\n",
        "        if self.scale_mode == 'cycle':\n",
        "            return self.base_lr + (self.max_lr-self.base_lr)*np.maximum(0, (1-x))*self.scale_fn(cycle)\n",
        "        else:\n",
        "            return self.base_lr + (self.max_lr-self.base_lr)*np.maximum(0, (1-x))*self.scale_fn(self.clr_iterations)\n",
        "        \n",
        "    def on_train_begin(self, logs={}):\n",
        "        logs = logs or {}\n",
        "\n",
        "        if self.clr_iterations == 0:\n",
        "            K.set_value(self.model.optimizer.lr, self.base_lr)\n",
        "        else:\n",
        "            K.set_value(self.model.optimizer.lr, self.clr())        \n",
        "            \n",
        "    def on_batch_end(self, epoch, logs=None):\n",
        "        \n",
        "        logs = logs or {}\n",
        "        self.trn_iterations += 1\n",
        "        self.clr_iterations += 1\n",
        "\n",
        "        self.history.setdefault('lr', []).append(K.get_value(self.model.optimizer.lr))\n",
        "        self.history.setdefault('iterations', []).append(self.trn_iterations)\n",
        "\n",
        "        for k, v in logs.items():\n",
        "            self.history.setdefault(k, []).append(v)\n",
        "        \n",
        "        K.set_value(self.model.optimizer.lr, self.clr())\n"
      ],
      "execution_count": 0,
      "outputs": []
    },
    {
      "metadata": {
        "id": "Uw60h0gec1LC",
        "colab_type": "text"
      },
      "cell_type": "markdown",
      "source": [
        "### Experiment\n",
        "\n",
        "<div align=\"justify\">**Objective:** Create a model using <b><i>Sparsenet</i></b> architecture and train the model on <i><b>CIFAR100</b></i> dataset</div>\n",
        "\n",
        "<div align=\"justify\">We use densnet architecture for our model and replace the concatenation part with exponential $2^N$ function keeping all the hyper parameters and model architecture same. As i have already explained why sparse net exponential term has advantage over denset and resnet i would like to present the facts in below experiment\n",
        "  \n",
        " We use <i><b>Stochastic Gradient Descent (SGD)</b></i> optimizer. I have set the learning rate as 0.1 and we have also use momentum parameter which helps accelerate SGD in right direction. During the experiment i used  3 methods to set learning rate during training  \n",
        " 1. <b>Time-Based Learning Rate Schedule</b> in which we decay the learning rate by certain value at each epoch let say $$\\\\text{decay} = \\text{learning rate} /\\text{ no of epoch}$$\n",
        " <br>\n",
        " 2.<b> Drop-Based Learning Rate Schedule</b> in which we reduce learning rate after certain epochs for example in densnet paper the initial lr=0.1 and reduce to 0.01 when epoch reaches 50% and 0.001 when epoch reaches to 75% \n",
        " \n",
        "Both the above method are form of <i><b>Adaptive Learning Rate</b></i> in which we reduce learning rate linearly but in both cases what should be the base learning rate since if learning rate is to low it lead to slow convergence and if it is high it may lead to divergence and we may need to train model with diifferent learning rate to find the optimal result\n",
        "</br></br>\n",
        "3.  <b>Cyclic Learning Rate</b> : To overcome the above issue  we can use cyclic learning rate with lr range between min and max. This method instead of reducing learning rate linearly it changes the learning rate between the given bound i.e. the range between max and min lr for given step size. But how to find the min and max lr bound. To find the bound we use <b><i>Learning rate range calculator</i></b> where we set the min lr and max lr and step size equal to total no of iteration and and train our model by increasing the the learning rate and then plot the accuracy against the  learning rate and find the point were the accuracy is increased to max and then start decreasing but we never consider the max point since from the point onwards the accuracy starts reducing so we consider learning rate previous to max accuracy over learning rate.  Alternatively, one can use the rule of thumb that the optimum learning rate is usually within a factor of two of the largest one that converges and set base lr to 1/3 or 1/4 of max lr. Other advantage of cyclic learning rate is it requires less iteration compared to model without clr to achieve the same accuracy\n",
        "</div>\n",
        "\n",
        "\n"
      ]
    },
    {
      "metadata": {
        "id": "JFB1Hn0OBf85",
        "colab_type": "code",
        "colab": {
          "autoexec": {
            "startup": false,
            "wait_interval": 0
          }
        }
      },
      "cell_type": "code",
      "source": [
        "batch_size = 100\n",
        "nb_epoch = 100\n",
        "weights_file = 'SparseNet-40-24-CIFAR100_CLR.h5';"
      ],
      "execution_count": 0,
      "outputs": []
    },
    {
      "metadata": {
        "id": "pK0T9slc9wG_",
        "colab_type": "code",
        "colab": {
          "autoexec": {
            "startup": false,
            "wait_interval": 0
          }
        }
      },
      "cell_type": "code",
      "source": [
        "model.compile(optimizer=SGD(lr=0.1,decay=0.0, momentum=0.9,nesterov=True), loss='categorical_crossentropy', metrics=['accuracy'])\n",
        "model_checkpoint = ModelCheckpoint(weights_file, monitor=\"val_acc\", save_best_only=True, save_weights_only=True, verbose=1)\n",
        "cyclic_lr = CyclicLR(mode='triangular')\n",
        "callbacks = [cyclic_lr, model_checkpoint]"
      ],
      "execution_count": 0,
      "outputs": []
    },
    {
      "metadata": {
        "id": "EAlQio80hmsb",
        "colab_type": "code",
        "colab": {
          "autoexec": {
            "startup": false,
            "wait_interval": 0
          }
        }
      },
      "cell_type": "code",
      "source": [
        "def graph_accuracy(history):\n",
        "  # list all data in history\n",
        "  print(history.history.keys())\n",
        "  # summarize history for accuracy\n",
        "  plt.plot(history.history['acc'])\n",
        "  plt.plot(history.history['val_acc'])\n",
        "  plt.title('model accuracy')\n",
        "  plt.ylabel('accuracy')\n",
        "  plt.xlabel('epoch')\n",
        "  plt.legend(['train', 'test'], loc='upper left')\n",
        "  plt.show()\n",
        "  # summarize history for loss\n",
        "  plt.plot(history.history['loss'])\n",
        "  plt.plot(history.history['val_loss'])\n",
        "  plt.title('model loss')\n",
        "  plt.ylabel('loss')\n",
        "  plt.xlabel('epoch')\n",
        "  plt.legend(['train', 'test'], loc='upper left')\n",
        "  plt.show()"
      ],
      "execution_count": 0,
      "outputs": []
    },
    {
      "metadata": {
        "id": "s-h9Gk3mo9Hq",
        "colab_type": "code",
        "colab": {
          "autoexec": {
            "startup": false,
            "wait_interval": 0
          }
        }
      },
      "cell_type": "code",
      "source": [
        "#due to shortage of time and freequent discconect i was not able to train the model from start but i was able save the model weights which i am reloading\n",
        "#pretrained model of of above model with image size 24 for 30 epoch using SGD optimizer with learning rate = 0.1, decay = 0.0 and momentum =0.9\n",
        "'''#size 24\n",
        "nb_epoch =15\n",
        "trainX_24 = [imresize(image, (24, 24, 3)) for image in trainX]\n",
        "trainX_24 = np.array(trainX)\n",
        "\n",
        "history_24 = model.fit_generator(generator.flow(trainX_24, Y_train, batch_size),\n",
        "                    steps_per_epoch=len(trainX_24) // batch_size, epochs=nb_epoch,\n",
        "                    callbacks=callbacks,\n",
        "                    validation_data=(testX, Y_test),\n",
        "                    validation_steps=testX.shape[0] // batch_size, verbose=1)'''\n",
        "\n",
        "\n",
        "from keras.utils.data_utils import get_file\n",
        "weights_path = get_file(\n",
        "            'SparseNet-40-24-CIFAR100_CLR_30',\n",
        "            'https://drive.google.com/uc?export=download&id=1KSEVaVuxKCMdSgNueKxktBziDIcsU9xO')\n",
        "model.load_weights(weights_path)"
      ],
      "execution_count": 0,
      "outputs": []
    },
    {
      "metadata": {
        "id": "CV60oQ0e-aja",
        "colab_type": "code",
        "colab": {
          "autoexec": {
            "startup": false,
            "wait_interval": 0
          },
          "base_uri": "https://localhost:8080/",
          "height": 4365
        },
        "outputId": "8a65dbcb-ebd9-47b5-e01a-4c76e9633334",
        "executionInfo": {
          "status": "error",
          "timestamp": 1530380599917,
          "user_tz": -330,
          "elapsed": 8948943,
          "user": {
            "displayName": "toniq apps",
            "photoUrl": "https://lh3.googleusercontent.com/a/default-user=s128",
            "userId": "108421831546381233222"
          }
        }
      },
      "cell_type": "code",
      "source": [
        "nb_epoch = 50\n",
        "#image size 32,32\n",
        "history_32 = model.fit_generator(generator.flow(trainX, Y_train, batch_size=batch_size),\n",
        "                    steps_per_epoch=len(trainX) // batch_size, epochs=nb_epoch,\n",
        "                    callbacks=callbacks,\n",
        "                    validation_data=(testX, Y_test),\n",
        "                    validation_steps=testX.shape[0] // batch_size, verbose=1)"
      ],
      "execution_count": 61,
      "outputs": [
        {
          "output_type": "stream",
          "text": [
            "Epoch 1/50\n",
            "500/500 [==============================] - 212s 423ms/step - loss: 0.8704 - acc: 0.7604 - val_loss: 1.3478 - val_acc: 0.6559\n",
            "\n",
            "Epoch 00001: val_acc improved from -inf to 0.65590, saving model to SparseNet-40-24-CIFAR100_CLR.h5\n",
            "Epoch 2/50\n",
            "162/500 [========>.....................] - ETA: 2:08 - loss: 0.8378 - acc: 0.7713"
          ],
          "name": "stdout"
        },
        {
          "output_type": "stream",
          "text": [
            "500/500 [==============================] - 206s 411ms/step - loss: 0.8086 - acc: 0.7796 - val_loss: 1.3421 - val_acc: 0.6596\n",
            "\n",
            "Epoch 00002: val_acc improved from 0.65590 to 0.65960, saving model to SparseNet-40-24-CIFAR100_CLR.h5\n",
            "Epoch 3/50\n",
            "224/500 [============>.................] - ETA: 1:45 - loss: 0.7798 - acc: 0.7869"
          ],
          "name": "stdout"
        },
        {
          "output_type": "stream",
          "text": [
            "500/500 [==============================] - 205s 411ms/step - loss: 0.7736 - acc: 0.7897 - val_loss: 1.3066 - val_acc: 0.6640\n",
            "\n",
            "Epoch 00003: val_acc improved from 0.65960 to 0.66400, saving model to SparseNet-40-24-CIFAR100_CLR.h5\n",
            "Epoch 4/50\n",
            "240/500 [=============>................] - ETA: 1:39 - loss: 0.7583 - acc: 0.7949"
          ],
          "name": "stdout"
        },
        {
          "output_type": "stream",
          "text": [
            "500/500 [==============================] - 205s 410ms/step - loss: 0.7500 - acc: 0.7977 - val_loss: 1.2969 - val_acc: 0.6702\n",
            "\n",
            "Epoch 00004: val_acc improved from 0.66400 to 0.67020, saving model to SparseNet-40-24-CIFAR100_CLR.h5\n",
            "Epoch 5/50\n",
            "244/500 [=============>................] - ETA: 1:37 - loss: 0.7317 - acc: 0.8018"
          ],
          "name": "stdout"
        },
        {
          "output_type": "stream",
          "text": [
            "500/500 [==============================] - 205s 411ms/step - loss: 0.7281 - acc: 0.8032 - val_loss: 1.3089 - val_acc: 0.6686\n",
            "\n",
            "Epoch 00005: val_acc did not improve from 0.67020\n",
            "Epoch 6/50\n",
            "295/500 [================>.............] - ETA: 1:18 - loss: 0.7138 - acc: 0.8094"
          ],
          "name": "stdout"
        },
        {
          "output_type": "stream",
          "text": [
            "500/500 [==============================] - 205s 410ms/step - loss: 0.7171 - acc: 0.8065 - val_loss: 1.3128 - val_acc: 0.6717\n",
            "\n",
            "Epoch 00006: val_acc improved from 0.67020 to 0.67170, saving model to SparseNet-40-24-CIFAR100_CLR.h5\n",
            "Epoch 7/50\n",
            "258/500 [==============>...............] - ETA: 1:32 - loss: 0.7037 - acc: 0.8105"
          ],
          "name": "stdout"
        },
        {
          "output_type": "stream",
          "text": [
            "500/500 [==============================] - 205s 411ms/step - loss: 0.7077 - acc: 0.8085 - val_loss: 1.2977 - val_acc: 0.6775\n",
            "\n",
            "Epoch 00007: val_acc improved from 0.67170 to 0.67750, saving model to SparseNet-40-24-CIFAR100_CLR.h5\n",
            "Epoch 8/50\n",
            "249/500 [=============>................] - ETA: 1:35 - loss: 0.6942 - acc: 0.8098"
          ],
          "name": "stdout"
        },
        {
          "output_type": "stream",
          "text": [
            "500/500 [==============================] - 205s 410ms/step - loss: 0.7021 - acc: 0.8074 - val_loss: 1.3130 - val_acc: 0.6758\n",
            "\n",
            "Epoch 00008: val_acc did not improve from 0.67750\n",
            "Epoch 9/50\n",
            "296/500 [================>.............] - ETA: 1:17 - loss: 0.7006 - acc: 0.8113"
          ],
          "name": "stdout"
        },
        {
          "output_type": "stream",
          "text": [
            "500/500 [==============================] - 205s 410ms/step - loss: 0.6973 - acc: 0.8110 - val_loss: 1.3174 - val_acc: 0.6739\n",
            "\n",
            "Epoch 00009: val_acc did not improve from 0.67750\n",
            "Epoch 10/50\n",
            "309/500 [=================>............] - ETA: 1:12 - loss: 0.6949 - acc: 0.8123"
          ],
          "name": "stdout"
        },
        {
          "output_type": "stream",
          "text": [
            "500/500 [==============================] - 205s 411ms/step - loss: 0.6963 - acc: 0.8123 - val_loss: 1.2814 - val_acc: 0.6760\n",
            "\n",
            "Epoch 00010: val_acc did not improve from 0.67750\n",
            "Epoch 11/50\n",
            "313/500 [=================>............] - ETA: 1:11 - loss: 0.6931 - acc: 0.8086"
          ],
          "name": "stdout"
        },
        {
          "output_type": "stream",
          "text": [
            "500/500 [==============================] - 205s 410ms/step - loss: 0.6931 - acc: 0.8084 - val_loss: 1.3047 - val_acc: 0.6745\n",
            "\n",
            "Epoch 00011: val_acc did not improve from 0.67750\n",
            "Epoch 12/50\n",
            "314/500 [=================>............] - ETA: 1:10 - loss: 0.6858 - acc: 0.8131"
          ],
          "name": "stdout"
        },
        {
          "output_type": "stream",
          "text": [
            "500/500 [==============================] - 205s 410ms/step - loss: 0.6878 - acc: 0.8104 - val_loss: 1.2941 - val_acc: 0.6794\n",
            "\n",
            "Epoch 00012: val_acc improved from 0.67750 to 0.67940, saving model to SparseNet-40-24-CIFAR100_CLR.h5\n",
            "Epoch 13/50\n",
            "262/500 [==============>...............] - ETA: 1:30 - loss: 0.6905 - acc: 0.8124"
          ],
          "name": "stdout"
        },
        {
          "output_type": "stream",
          "text": [
            "500/500 [==============================] - 205s 410ms/step - loss: 0.6849 - acc: 0.8118 - val_loss: 1.3254 - val_acc: 0.6731\n",
            "\n",
            "Epoch 00013: val_acc did not improve from 0.67940\n",
            "Epoch 14/50\n",
            "299/500 [================>.............] - ETA: 1:16 - loss: 0.6782 - acc: 0.8149"
          ],
          "name": "stdout"
        },
        {
          "output_type": "stream",
          "text": [
            "500/500 [==============================] - 205s 411ms/step - loss: 0.6753 - acc: 0.8154 - val_loss: 1.3097 - val_acc: 0.6786\n",
            "\n",
            "Epoch 00014: val_acc did not improve from 0.67940\n",
            "Epoch 15/50\n",
            "310/500 [=================>............] - ETA: 1:12 - loss: 0.6551 - acc: 0.8203"
          ],
          "name": "stdout"
        },
        {
          "output_type": "stream",
          "text": [
            "500/500 [==============================] - 205s 409ms/step - loss: 0.6637 - acc: 0.8184 - val_loss: 1.2906 - val_acc: 0.6833\n",
            "\n",
            "Epoch 00015: val_acc improved from 0.67940 to 0.68330, saving model to SparseNet-40-24-CIFAR100_CLR.h5\n",
            "Epoch 16/50\n",
            "261/500 [==============>...............] - ETA: 1:30 - loss: 0.6647 - acc: 0.8197"
          ],
          "name": "stdout"
        },
        {
          "output_type": "stream",
          "text": [
            "500/500 [==============================] - 205s 409ms/step - loss: 0.6660 - acc: 0.8178 - val_loss: 1.2853 - val_acc: 0.6827\n",
            "\n",
            "Epoch 00016: val_acc did not improve from 0.68330\n",
            "Epoch 17/50\n",
            "299/500 [================>.............] - ETA: 1:16 - loss: 0.6535 - acc: 0.8205"
          ],
          "name": "stdout"
        },
        {
          "output_type": "stream",
          "text": [
            "500/500 [==============================] - 205s 410ms/step - loss: 0.6574 - acc: 0.8196 - val_loss: 1.3007 - val_acc: 0.6763\n",
            "\n",
            "Epoch 00017: val_acc did not improve from 0.68330\n",
            "Epoch 18/50\n",
            "310/500 [=================>............] - ETA: 1:12 - loss: 0.6613 - acc: 0.8184"
          ],
          "name": "stdout"
        },
        {
          "output_type": "stream",
          "text": [
            "500/500 [==============================] - 205s 409ms/step - loss: 0.6585 - acc: 0.8194 - val_loss: 1.3473 - val_acc: 0.6708\n",
            "\n",
            "Epoch 00018: val_acc did not improve from 0.68330\n",
            "Epoch 19/50\n",
            "314/500 [=================>............] - ETA: 1:10 - loss: 0.6603 - acc: 0.8189"
          ],
          "name": "stdout"
        },
        {
          "output_type": "stream",
          "text": [
            "500/500 [==============================] - 205s 410ms/step - loss: 0.6650 - acc: 0.8169 - val_loss: 1.3392 - val_acc: 0.6745\n",
            "\n",
            "Epoch 00019: val_acc did not improve from 0.68330\n",
            "Epoch 20/50\n",
            "315/500 [=================>............] - ETA: 1:10 - loss: 0.6558 - acc: 0.8191"
          ],
          "name": "stdout"
        },
        {
          "output_type": "stream",
          "text": [
            "500/500 [==============================] - 205s 410ms/step - loss: 0.6572 - acc: 0.8195 - val_loss: 1.3251 - val_acc: 0.6753\n",
            "\n",
            "Epoch 00020: val_acc did not improve from 0.68330\n",
            "Epoch 21/50\n",
            "315/500 [=================>............] - ETA: 1:10 - loss: 0.6423 - acc: 0.8212"
          ],
          "name": "stdout"
        },
        {
          "output_type": "stream",
          "text": [
            "500/500 [==============================] - 204s 409ms/step - loss: 0.6469 - acc: 0.8202 - val_loss: 1.3573 - val_acc: 0.6765\n",
            "\n",
            "Epoch 00021: val_acc did not improve from 0.68330\n",
            "Epoch 22/50\n",
            "315/500 [=================>............] - ETA: 1:10 - loss: 0.6409 - acc: 0.8206"
          ],
          "name": "stdout"
        },
        {
          "output_type": "stream",
          "text": [
            "500/500 [==============================] - 205s 410ms/step - loss: 0.6460 - acc: 0.8202 - val_loss: 1.3115 - val_acc: 0.6827\n",
            "\n",
            "Epoch 00022: val_acc did not improve from 0.68330\n",
            "Epoch 23/50\n",
            "315/500 [=================>............] - ETA: 1:10 - loss: 0.6436 - acc: 0.8207"
          ],
          "name": "stdout"
        },
        {
          "output_type": "stream",
          "text": [
            "500/500 [==============================] - 205s 410ms/step - loss: 0.6412 - acc: 0.8232 - val_loss: 1.3277 - val_acc: 0.6731\n",
            "\n",
            "Epoch 00023: val_acc did not improve from 0.68330\n",
            "Epoch 24/50\n",
            "315/500 [=================>............] - ETA: 1:10 - loss: 0.6361 - acc: 0.8236"
          ],
          "name": "stdout"
        },
        {
          "output_type": "stream",
          "text": [
            "500/500 [==============================] - 204s 409ms/step - loss: 0.6351 - acc: 0.8244 - val_loss: 1.3663 - val_acc: 0.6708\n",
            "\n",
            "Epoch 00024: val_acc did not improve from 0.68330\n",
            "Epoch 25/50\n",
            "315/500 [=================>............] - ETA: 1:10 - loss: 0.6384 - acc: 0.8251"
          ],
          "name": "stdout"
        },
        {
          "output_type": "stream",
          "text": [
            "500/500 [==============================] - 205s 410ms/step - loss: 0.6333 - acc: 0.8256 - val_loss: 1.3197 - val_acc: 0.6744\n",
            "\n",
            "Epoch 00025: val_acc did not improve from 0.68330\n",
            "Epoch 26/50\n",
            "315/500 [=================>............] - ETA: 1:10 - loss: 0.6279 - acc: 0.8264"
          ],
          "name": "stdout"
        },
        {
          "output_type": "stream",
          "text": [
            "500/500 [==============================] - 204s 409ms/step - loss: 0.6320 - acc: 0.8255 - val_loss: 1.3535 - val_acc: 0.6692\n",
            "\n",
            "Epoch 00026: val_acc did not improve from 0.68330\n",
            "Epoch 27/50\n",
            "315/500 [=================>............] - ETA: 1:10 - loss: 0.6305 - acc: 0.8265"
          ],
          "name": "stdout"
        },
        {
          "output_type": "stream",
          "text": [
            "500/500 [==============================] - 205s 409ms/step - loss: 0.6341 - acc: 0.8251 - val_loss: 1.3450 - val_acc: 0.6760\n",
            "\n",
            "Epoch 00027: val_acc did not improve from 0.68330\n",
            "Epoch 28/50\n",
            "315/500 [=================>............] - ETA: 1:10 - loss: 0.6269 - acc: 0.8269"
          ],
          "name": "stdout"
        },
        {
          "output_type": "stream",
          "text": [
            "500/500 [==============================] - 205s 410ms/step - loss: 0.6296 - acc: 0.8256 - val_loss: 1.3684 - val_acc: 0.6728\n",
            "\n",
            "Epoch 00028: val_acc did not improve from 0.68330\n",
            "Epoch 29/50\n",
            "315/500 [=================>............] - ETA: 1:10 - loss: 0.6260 - acc: 0.8238"
          ],
          "name": "stdout"
        },
        {
          "output_type": "stream",
          "text": [
            "500/500 [==============================] - 205s 409ms/step - loss: 0.6273 - acc: 0.8241 - val_loss: 1.3531 - val_acc: 0.6742\n",
            "\n",
            "Epoch 00029: val_acc did not improve from 0.68330\n",
            "Epoch 30/50\n",
            "315/500 [=================>............] - ETA: 1:10 - loss: 0.6192 - acc: 0.8283"
          ],
          "name": "stdout"
        },
        {
          "output_type": "stream",
          "text": [
            "500/500 [==============================] - 205s 410ms/step - loss: 0.6197 - acc: 0.8272 - val_loss: 1.3307 - val_acc: 0.6780\n",
            "\n",
            "Epoch 00030: val_acc did not improve from 0.68330\n",
            "Epoch 31/50\n",
            "315/500 [=================>............] - ETA: 1:10 - loss: 0.6112 - acc: 0.8305"
          ],
          "name": "stdout"
        },
        {
          "output_type": "stream",
          "text": [
            "500/500 [==============================] - 205s 410ms/step - loss: 0.6130 - acc: 0.8305 - val_loss: 1.3119 - val_acc: 0.6833\n",
            "\n",
            "Epoch 00031: val_acc did not improve from 0.68330\n",
            "Epoch 32/50\n",
            "315/500 [=================>............] - ETA: 1:10 - loss: 0.6099 - acc: 0.8298"
          ],
          "name": "stdout"
        },
        {
          "output_type": "stream",
          "text": [
            "500/500 [==============================] - 205s 411ms/step - loss: 0.6111 - acc: 0.8301 - val_loss: 1.3422 - val_acc: 0.6780\n",
            "\n",
            "Epoch 00032: val_acc did not improve from 0.68330\n",
            "Epoch 33/50\n",
            "315/500 [=================>............] - ETA: 1:10 - loss: 0.6147 - acc: 0.8291"
          ],
          "name": "stdout"
        },
        {
          "output_type": "stream",
          "text": [
            "500/500 [==============================] - 205s 410ms/step - loss: 0.6092 - acc: 0.8305 - val_loss: 1.3368 - val_acc: 0.6789\n",
            "\n",
            "Epoch 00033: val_acc did not improve from 0.68330\n",
            "Epoch 34/50\n",
            "315/500 [=================>............] - ETA: 1:10 - loss: 0.6075 - acc: 0.8305"
          ],
          "name": "stdout"
        },
        {
          "output_type": "stream",
          "text": [
            "500/500 [==============================] - 205s 410ms/step - loss: 0.6129 - acc: 0.8287 - val_loss: 1.3355 - val_acc: 0.6785\n",
            "\n",
            "Epoch 00034: val_acc did not improve from 0.68330\n",
            "Epoch 35/50\n",
            "315/500 [=================>............] - ETA: 1:10 - loss: 0.6123 - acc: 0.8295"
          ],
          "name": "stdout"
        },
        {
          "output_type": "stream",
          "text": [
            "500/500 [==============================] - 205s 410ms/step - loss: 0.6117 - acc: 0.8288 - val_loss: 1.3478 - val_acc: 0.6752\n",
            "\n",
            "Epoch 00035: val_acc did not improve from 0.68330\n",
            "Epoch 36/50\n",
            "315/500 [=================>............] - ETA: 1:10 - loss: 0.6018 - acc: 0.8327"
          ],
          "name": "stdout"
        },
        {
          "output_type": "stream",
          "text": [
            "500/500 [==============================] - 205s 411ms/step - loss: 0.6102 - acc: 0.8302 - val_loss: 1.3281 - val_acc: 0.6805\n",
            "\n",
            "Epoch 00036: val_acc did not improve from 0.68330\n",
            "Epoch 37/50\n",
            "315/500 [=================>............] - ETA: 1:10 - loss: 0.6051 - acc: 0.8313"
          ],
          "name": "stdout"
        },
        {
          "output_type": "stream",
          "text": [
            "500/500 [==============================] - 204s 408ms/step - loss: 0.6066 - acc: 0.8316 - val_loss: 1.3737 - val_acc: 0.6728\n",
            "\n",
            "Epoch 00037: val_acc did not improve from 0.68330\n",
            "Epoch 38/50\n",
            "315/500 [=================>............] - ETA: 1:10 - loss: 0.5953 - acc: 0.8341"
          ],
          "name": "stdout"
        },
        {
          "output_type": "stream",
          "text": [
            "500/500 [==============================] - 205s 410ms/step - loss: 0.6005 - acc: 0.8331 - val_loss: 1.3365 - val_acc: 0.6789\n",
            "\n",
            "Epoch 00038: val_acc did not improve from 0.68330\n",
            "Epoch 39/50\n",
            "315/500 [=================>............] - ETA: 1:10 - loss: 0.5922 - acc: 0.8344"
          ],
          "name": "stdout"
        },
        {
          "output_type": "stream",
          "text": [
            "500/500 [==============================] - 205s 410ms/step - loss: 0.5942 - acc: 0.8340 - val_loss: 1.3752 - val_acc: 0.6717\n",
            "\n",
            "Epoch 00039: val_acc did not improve from 0.68330\n",
            "Epoch 40/50\n",
            "315/500 [=================>............] - ETA: 1:10 - loss: 0.5905 - acc: 0.8351"
          ],
          "name": "stdout"
        },
        {
          "output_type": "stream",
          "text": [
            "500/500 [==============================] - 205s 410ms/step - loss: 0.5919 - acc: 0.8349 - val_loss: 1.3474 - val_acc: 0.6798\n",
            "\n",
            "Epoch 00040: val_acc did not improve from 0.68330\n",
            "Epoch 41/50\n",
            "315/500 [=================>............] - ETA: 1:10 - loss: 0.5919 - acc: 0.8350"
          ],
          "name": "stdout"
        },
        {
          "output_type": "stream",
          "text": [
            "500/500 [==============================] - 205s 409ms/step - loss: 0.5906 - acc: 0.8349 - val_loss: 1.3553 - val_acc: 0.6753\n",
            "\n",
            "Epoch 00041: val_acc did not improve from 0.68330\n",
            "Epoch 42/50\n",
            "315/500 [=================>............] - ETA: 1:10 - loss: 0.5913 - acc: 0.8338"
          ],
          "name": "stdout"
        },
        {
          "output_type": "stream",
          "text": [
            "500/500 [==============================] - 205s 410ms/step - loss: 0.5892 - acc: 0.8349 - val_loss: 1.3607 - val_acc: 0.6785\n",
            "\n",
            "Epoch 00042: val_acc did not improve from 0.68330\n",
            "Epoch 43/50\n",
            "315/500 [=================>............] - ETA: 1:10 - loss: 0.5824 - acc: 0.8358"
          ],
          "name": "stdout"
        },
        {
          "output_type": "stream",
          "text": [
            "500/500 [==============================] - 205s 410ms/step - loss: 0.5884 - acc: 0.8343 - val_loss: 1.3708 - val_acc: 0.6740\n",
            "\n",
            "Epoch 00043: val_acc did not improve from 0.68330\n",
            "Epoch 44/50\n",
            "238/500 [=============>................] - ETA: 1:39 - loss: 0.5821 - acc: 0.8369"
          ],
          "name": "stdout"
        },
        {
          "output_type": "error",
          "ename": "KeyboardInterrupt",
          "evalue": "ignored",
          "traceback": [
            "\u001b[0;31m---------------------------------------------------------------------------\u001b[0m",
            "\u001b[0;31mKeyboardInterrupt\u001b[0m                         Traceback (most recent call last)",
            "\u001b[0;32m<ipython-input-61-40955e94294f>\u001b[0m in \u001b[0;36m<module>\u001b[0;34m()\u001b[0m\n\u001b[1;32m      5\u001b[0m                     \u001b[0mcallbacks\u001b[0m\u001b[0;34m=\u001b[0m\u001b[0mcallbacks\u001b[0m\u001b[0;34m,\u001b[0m\u001b[0;34m\u001b[0m\u001b[0m\n\u001b[1;32m      6\u001b[0m                     \u001b[0mvalidation_data\u001b[0m\u001b[0;34m=\u001b[0m\u001b[0;34m(\u001b[0m\u001b[0mtestX\u001b[0m\u001b[0;34m,\u001b[0m \u001b[0mY_test\u001b[0m\u001b[0;34m)\u001b[0m\u001b[0;34m,\u001b[0m\u001b[0;34m\u001b[0m\u001b[0m\n\u001b[0;32m----> 7\u001b[0;31m                     validation_steps=testX.shape[0] // batch_size, verbose=1)\n\u001b[0m",
            "\u001b[0;32m/usr/local/lib/python3.6/dist-packages/keras/legacy/interfaces.py\u001b[0m in \u001b[0;36mwrapper\u001b[0;34m(*args, **kwargs)\u001b[0m\n\u001b[1;32m     89\u001b[0m                 warnings.warn('Update your `' + object_name +\n\u001b[1;32m     90\u001b[0m                               '` call to the Keras 2 API: ' + signature, stacklevel=2)\n\u001b[0;32m---> 91\u001b[0;31m             \u001b[0;32mreturn\u001b[0m \u001b[0mfunc\u001b[0m\u001b[0;34m(\u001b[0m\u001b[0;34m*\u001b[0m\u001b[0margs\u001b[0m\u001b[0;34m,\u001b[0m \u001b[0;34m**\u001b[0m\u001b[0mkwargs\u001b[0m\u001b[0;34m)\u001b[0m\u001b[0;34m\u001b[0m\u001b[0m\n\u001b[0m\u001b[1;32m     92\u001b[0m         \u001b[0mwrapper\u001b[0m\u001b[0;34m.\u001b[0m\u001b[0m_original_function\u001b[0m \u001b[0;34m=\u001b[0m \u001b[0mfunc\u001b[0m\u001b[0;34m\u001b[0m\u001b[0m\n\u001b[1;32m     93\u001b[0m         \u001b[0;32mreturn\u001b[0m \u001b[0mwrapper\u001b[0m\u001b[0;34m\u001b[0m\u001b[0m\n",
            "\u001b[0;32m/usr/local/lib/python3.6/dist-packages/keras/engine/training.py\u001b[0m in \u001b[0;36mfit_generator\u001b[0;34m(self, generator, steps_per_epoch, epochs, verbose, callbacks, validation_data, validation_steps, class_weight, max_queue_size, workers, use_multiprocessing, shuffle, initial_epoch)\u001b[0m\n\u001b[1;32m   2228\u001b[0m                     outs = self.train_on_batch(x, y,\n\u001b[1;32m   2229\u001b[0m                                                \u001b[0msample_weight\u001b[0m\u001b[0;34m=\u001b[0m\u001b[0msample_weight\u001b[0m\u001b[0;34m,\u001b[0m\u001b[0;34m\u001b[0m\u001b[0m\n\u001b[0;32m-> 2230\u001b[0;31m                                                class_weight=class_weight)\n\u001b[0m\u001b[1;32m   2231\u001b[0m \u001b[0;34m\u001b[0m\u001b[0m\n\u001b[1;32m   2232\u001b[0m                     \u001b[0;32mif\u001b[0m \u001b[0;32mnot\u001b[0m \u001b[0misinstance\u001b[0m\u001b[0;34m(\u001b[0m\u001b[0mouts\u001b[0m\u001b[0;34m,\u001b[0m \u001b[0mlist\u001b[0m\u001b[0;34m)\u001b[0m\u001b[0;34m:\u001b[0m\u001b[0;34m\u001b[0m\u001b[0m\n",
            "\u001b[0;32m/usr/local/lib/python3.6/dist-packages/keras/engine/training.py\u001b[0m in \u001b[0;36mtrain_on_batch\u001b[0;34m(self, x, y, sample_weight, class_weight)\u001b[0m\n\u001b[1;32m   1881\u001b[0m             \u001b[0mins\u001b[0m \u001b[0;34m=\u001b[0m \u001b[0mx\u001b[0m \u001b[0;34m+\u001b[0m \u001b[0my\u001b[0m \u001b[0;34m+\u001b[0m \u001b[0msample_weights\u001b[0m\u001b[0;34m\u001b[0m\u001b[0m\n\u001b[1;32m   1882\u001b[0m         \u001b[0mself\u001b[0m\u001b[0;34m.\u001b[0m\u001b[0m_make_train_function\u001b[0m\u001b[0;34m(\u001b[0m\u001b[0;34m)\u001b[0m\u001b[0;34m\u001b[0m\u001b[0m\n\u001b[0;32m-> 1883\u001b[0;31m         \u001b[0moutputs\u001b[0m \u001b[0;34m=\u001b[0m \u001b[0mself\u001b[0m\u001b[0;34m.\u001b[0m\u001b[0mtrain_function\u001b[0m\u001b[0;34m(\u001b[0m\u001b[0mins\u001b[0m\u001b[0;34m)\u001b[0m\u001b[0;34m\u001b[0m\u001b[0m\n\u001b[0m\u001b[1;32m   1884\u001b[0m         \u001b[0;32mif\u001b[0m \u001b[0mlen\u001b[0m\u001b[0;34m(\u001b[0m\u001b[0moutputs\u001b[0m\u001b[0;34m)\u001b[0m \u001b[0;34m==\u001b[0m \u001b[0;36m1\u001b[0m\u001b[0;34m:\u001b[0m\u001b[0;34m\u001b[0m\u001b[0m\n\u001b[1;32m   1885\u001b[0m             \u001b[0;32mreturn\u001b[0m \u001b[0moutputs\u001b[0m\u001b[0;34m[\u001b[0m\u001b[0;36m0\u001b[0m\u001b[0;34m]\u001b[0m\u001b[0;34m\u001b[0m\u001b[0m\n",
            "\u001b[0;32m/usr/local/lib/python3.6/dist-packages/keras/backend/tensorflow_backend.py\u001b[0m in \u001b[0;36m__call__\u001b[0;34m(self, inputs)\u001b[0m\n\u001b[1;32m   2480\u001b[0m         \u001b[0msession\u001b[0m \u001b[0;34m=\u001b[0m \u001b[0mget_session\u001b[0m\u001b[0;34m(\u001b[0m\u001b[0;34m)\u001b[0m\u001b[0;34m\u001b[0m\u001b[0m\n\u001b[1;32m   2481\u001b[0m         updated = session.run(fetches=fetches, feed_dict=feed_dict,\n\u001b[0;32m-> 2482\u001b[0;31m                               **self.session_kwargs)\n\u001b[0m\u001b[1;32m   2483\u001b[0m         \u001b[0;32mreturn\u001b[0m \u001b[0mupdated\u001b[0m\u001b[0;34m[\u001b[0m\u001b[0;34m:\u001b[0m\u001b[0mlen\u001b[0m\u001b[0;34m(\u001b[0m\u001b[0mself\u001b[0m\u001b[0;34m.\u001b[0m\u001b[0moutputs\u001b[0m\u001b[0;34m)\u001b[0m\u001b[0;34m]\u001b[0m\u001b[0;34m\u001b[0m\u001b[0m\n\u001b[1;32m   2484\u001b[0m \u001b[0;34m\u001b[0m\u001b[0m\n",
            "\u001b[0;32m/usr/local/lib/python3.6/dist-packages/tensorflow/python/client/session.py\u001b[0m in \u001b[0;36mrun\u001b[0;34m(self, fetches, feed_dict, options, run_metadata)\u001b[0m\n\u001b[1;32m    898\u001b[0m     \u001b[0;32mtry\u001b[0m\u001b[0;34m:\u001b[0m\u001b[0;34m\u001b[0m\u001b[0m\n\u001b[1;32m    899\u001b[0m       result = self._run(None, fetches, feed_dict, options_ptr,\n\u001b[0;32m--> 900\u001b[0;31m                          run_metadata_ptr)\n\u001b[0m\u001b[1;32m    901\u001b[0m       \u001b[0;32mif\u001b[0m \u001b[0mrun_metadata\u001b[0m\u001b[0;34m:\u001b[0m\u001b[0;34m\u001b[0m\u001b[0m\n\u001b[1;32m    902\u001b[0m         \u001b[0mproto_data\u001b[0m \u001b[0;34m=\u001b[0m \u001b[0mtf_session\u001b[0m\u001b[0;34m.\u001b[0m\u001b[0mTF_GetBuffer\u001b[0m\u001b[0;34m(\u001b[0m\u001b[0mrun_metadata_ptr\u001b[0m\u001b[0;34m)\u001b[0m\u001b[0;34m\u001b[0m\u001b[0m\n",
            "\u001b[0;32m/usr/local/lib/python3.6/dist-packages/tensorflow/python/client/session.py\u001b[0m in \u001b[0;36m_run\u001b[0;34m(self, handle, fetches, feed_dict, options, run_metadata)\u001b[0m\n\u001b[1;32m   1133\u001b[0m     \u001b[0;32mif\u001b[0m \u001b[0mfinal_fetches\u001b[0m \u001b[0;32mor\u001b[0m \u001b[0mfinal_targets\u001b[0m \u001b[0;32mor\u001b[0m \u001b[0;34m(\u001b[0m\u001b[0mhandle\u001b[0m \u001b[0;32mand\u001b[0m \u001b[0mfeed_dict_tensor\u001b[0m\u001b[0;34m)\u001b[0m\u001b[0;34m:\u001b[0m\u001b[0;34m\u001b[0m\u001b[0m\n\u001b[1;32m   1134\u001b[0m       results = self._do_run(handle, final_targets, final_fetches,\n\u001b[0;32m-> 1135\u001b[0;31m                              feed_dict_tensor, options, run_metadata)\n\u001b[0m\u001b[1;32m   1136\u001b[0m     \u001b[0;32melse\u001b[0m\u001b[0;34m:\u001b[0m\u001b[0;34m\u001b[0m\u001b[0m\n\u001b[1;32m   1137\u001b[0m       \u001b[0mresults\u001b[0m \u001b[0;34m=\u001b[0m \u001b[0;34m[\u001b[0m\u001b[0;34m]\u001b[0m\u001b[0;34m\u001b[0m\u001b[0m\n",
            "\u001b[0;32m/usr/local/lib/python3.6/dist-packages/tensorflow/python/client/session.py\u001b[0m in \u001b[0;36m_do_run\u001b[0;34m(self, handle, target_list, fetch_list, feed_dict, options, run_metadata)\u001b[0m\n\u001b[1;32m   1314\u001b[0m     \u001b[0;32mif\u001b[0m \u001b[0mhandle\u001b[0m \u001b[0;32mis\u001b[0m \u001b[0;32mNone\u001b[0m\u001b[0;34m:\u001b[0m\u001b[0;34m\u001b[0m\u001b[0m\n\u001b[1;32m   1315\u001b[0m       return self._do_call(_run_fn, feeds, fetches, targets, options,\n\u001b[0;32m-> 1316\u001b[0;31m                            run_metadata)\n\u001b[0m\u001b[1;32m   1317\u001b[0m     \u001b[0;32melse\u001b[0m\u001b[0;34m:\u001b[0m\u001b[0;34m\u001b[0m\u001b[0m\n\u001b[1;32m   1318\u001b[0m       \u001b[0;32mreturn\u001b[0m \u001b[0mself\u001b[0m\u001b[0;34m.\u001b[0m\u001b[0m_do_call\u001b[0m\u001b[0;34m(\u001b[0m\u001b[0m_prun_fn\u001b[0m\u001b[0;34m,\u001b[0m \u001b[0mhandle\u001b[0m\u001b[0;34m,\u001b[0m \u001b[0mfeeds\u001b[0m\u001b[0;34m,\u001b[0m \u001b[0mfetches\u001b[0m\u001b[0;34m)\u001b[0m\u001b[0;34m\u001b[0m\u001b[0m\n",
            "\u001b[0;32m/usr/local/lib/python3.6/dist-packages/tensorflow/python/client/session.py\u001b[0m in \u001b[0;36m_do_call\u001b[0;34m(self, fn, *args)\u001b[0m\n\u001b[1;32m   1320\u001b[0m   \u001b[0;32mdef\u001b[0m \u001b[0m_do_call\u001b[0m\u001b[0;34m(\u001b[0m\u001b[0mself\u001b[0m\u001b[0;34m,\u001b[0m \u001b[0mfn\u001b[0m\u001b[0;34m,\u001b[0m \u001b[0;34m*\u001b[0m\u001b[0margs\u001b[0m\u001b[0;34m)\u001b[0m\u001b[0;34m:\u001b[0m\u001b[0;34m\u001b[0m\u001b[0m\n\u001b[1;32m   1321\u001b[0m     \u001b[0;32mtry\u001b[0m\u001b[0;34m:\u001b[0m\u001b[0;34m\u001b[0m\u001b[0m\n\u001b[0;32m-> 1322\u001b[0;31m       \u001b[0;32mreturn\u001b[0m \u001b[0mfn\u001b[0m\u001b[0;34m(\u001b[0m\u001b[0;34m*\u001b[0m\u001b[0margs\u001b[0m\u001b[0;34m)\u001b[0m\u001b[0;34m\u001b[0m\u001b[0m\n\u001b[0m\u001b[1;32m   1323\u001b[0m     \u001b[0;32mexcept\u001b[0m \u001b[0merrors\u001b[0m\u001b[0;34m.\u001b[0m\u001b[0mOpError\u001b[0m \u001b[0;32mas\u001b[0m \u001b[0me\u001b[0m\u001b[0;34m:\u001b[0m\u001b[0;34m\u001b[0m\u001b[0m\n\u001b[1;32m   1324\u001b[0m       \u001b[0mmessage\u001b[0m \u001b[0;34m=\u001b[0m \u001b[0mcompat\u001b[0m\u001b[0;34m.\u001b[0m\u001b[0mas_text\u001b[0m\u001b[0;34m(\u001b[0m\u001b[0me\u001b[0m\u001b[0;34m.\u001b[0m\u001b[0mmessage\u001b[0m\u001b[0;34m)\u001b[0m\u001b[0;34m\u001b[0m\u001b[0m\n",
            "\u001b[0;32m/usr/local/lib/python3.6/dist-packages/tensorflow/python/client/session.py\u001b[0m in \u001b[0;36m_run_fn\u001b[0;34m(feed_dict, fetch_list, target_list, options, run_metadata)\u001b[0m\n\u001b[1;32m   1305\u001b[0m       \u001b[0mself\u001b[0m\u001b[0;34m.\u001b[0m\u001b[0m_extend_graph\u001b[0m\u001b[0;34m(\u001b[0m\u001b[0;34m)\u001b[0m\u001b[0;34m\u001b[0m\u001b[0m\n\u001b[1;32m   1306\u001b[0m       return self._call_tf_sessionrun(\n\u001b[0;32m-> 1307\u001b[0;31m           options, feed_dict, fetch_list, target_list, run_metadata)\n\u001b[0m\u001b[1;32m   1308\u001b[0m \u001b[0;34m\u001b[0m\u001b[0m\n\u001b[1;32m   1309\u001b[0m     \u001b[0;32mdef\u001b[0m \u001b[0m_prun_fn\u001b[0m\u001b[0;34m(\u001b[0m\u001b[0mhandle\u001b[0m\u001b[0;34m,\u001b[0m \u001b[0mfeed_dict\u001b[0m\u001b[0;34m,\u001b[0m \u001b[0mfetch_list\u001b[0m\u001b[0;34m)\u001b[0m\u001b[0;34m:\u001b[0m\u001b[0;34m\u001b[0m\u001b[0m\n",
            "\u001b[0;32m/usr/local/lib/python3.6/dist-packages/tensorflow/python/client/session.py\u001b[0m in \u001b[0;36m_call_tf_sessionrun\u001b[0;34m(self, options, feed_dict, fetch_list, target_list, run_metadata)\u001b[0m\n\u001b[1;32m   1407\u001b[0m       return tf_session.TF_SessionRun_wrapper(\n\u001b[1;32m   1408\u001b[0m           \u001b[0mself\u001b[0m\u001b[0;34m.\u001b[0m\u001b[0m_session\u001b[0m\u001b[0;34m,\u001b[0m \u001b[0moptions\u001b[0m\u001b[0;34m,\u001b[0m \u001b[0mfeed_dict\u001b[0m\u001b[0;34m,\u001b[0m \u001b[0mfetch_list\u001b[0m\u001b[0;34m,\u001b[0m \u001b[0mtarget_list\u001b[0m\u001b[0;34m,\u001b[0m\u001b[0;34m\u001b[0m\u001b[0m\n\u001b[0;32m-> 1409\u001b[0;31m           run_metadata)\n\u001b[0m\u001b[1;32m   1410\u001b[0m     \u001b[0;32melse\u001b[0m\u001b[0;34m:\u001b[0m\u001b[0;34m\u001b[0m\u001b[0m\n\u001b[1;32m   1411\u001b[0m       \u001b[0;32mwith\u001b[0m \u001b[0merrors\u001b[0m\u001b[0;34m.\u001b[0m\u001b[0mraise_exception_on_not_ok_status\u001b[0m\u001b[0;34m(\u001b[0m\u001b[0;34m)\u001b[0m \u001b[0;32mas\u001b[0m \u001b[0mstatus\u001b[0m\u001b[0;34m:\u001b[0m\u001b[0;34m\u001b[0m\u001b[0m\n",
            "\u001b[0;31mKeyboardInterrupt\u001b[0m: "
          ]
        }
      ]
    },
    {
      "metadata": {
        "id": "0bALHz0B8sO1",
        "colab_type": "code",
        "colab": {
          "autoexec": {
            "startup": false,
            "wait_interval": 0
          }
        }
      },
      "cell_type": "code",
      "source": [
        "from google.colab import files\n",
        "files.download('SparseNet-40-24-CIFAR100_CLR.h5')"
      ],
      "execution_count": 0,
      "outputs": []
    },
    {
      "metadata": {
        "id": "SDboLKe62Qns",
        "colab_type": "code",
        "colab": {
          "autoexec": {
            "startup": false,
            "wait_interval": 0
          }
        }
      },
      "cell_type": "code",
      "source": [
        "yPreds = model.predict(testX)\n",
        "yPred = np.argmax(yPreds, axis=1)\n",
        "yTrue = testY\n",
        "\n",
        "accuracy = metrics.accuracy_score(yTrue, yPred) * 100\n",
        "error = 100 - accuracy\n",
        "print(\"Accuracy : \", accuracy)\n",
        "print(\"Error : \", error)"
      ],
      "execution_count": 0,
      "outputs": []
    }
  ]
}